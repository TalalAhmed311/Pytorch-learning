{
 "cells": [
  {
   "cell_type": "markdown",
   "id": "universal-rates",
   "metadata": {},
   "source": [
    "# What is Pytorch\n",
    "\n",
    "### PyTorch is an open source machine learning and deep learning framework."
   ]
  },
  {
   "cell_type": "code",
   "execution_count": 1,
   "id": "early-overall",
   "metadata": {},
   "outputs": [
    {
     "data": {
      "text/plain": [
       "'1.7.1'"
      ]
     },
     "execution_count": 1,
     "metadata": {},
     "output_type": "execute_result"
    }
   ],
   "source": [
    "import torch\n",
    "torch.__version__"
   ]
  },
  {
   "cell_type": "markdown",
   "id": "laden-economy",
   "metadata": {},
   "source": [
    "## Creating Tensors"
   ]
  },
  {
   "cell_type": "code",
   "execution_count": 2,
   "id": "instructional-fault",
   "metadata": {},
   "outputs": [
    {
     "data": {
      "text/plain": [
       "tensor(10)"
      ]
     },
     "execution_count": 2,
     "metadata": {},
     "output_type": "execute_result"
    }
   ],
   "source": [
    "# Scaler\n",
    "scaler = torch.tensor(10)\n",
    "scaler"
   ]
  },
  {
   "cell_type": "code",
   "execution_count": 3,
   "id": "visible-ontario",
   "metadata": {},
   "outputs": [
    {
     "data": {
      "text/plain": [
       "0"
      ]
     },
     "execution_count": 3,
     "metadata": {},
     "output_type": "execute_result"
    }
   ],
   "source": [
    "# Dimesion of Tensor\n",
    "scaler.ndim"
   ]
  },
  {
   "cell_type": "code",
   "execution_count": 4,
   "id": "informational-delaware",
   "metadata": {},
   "outputs": [
    {
     "data": {
      "text/plain": [
       "10"
      ]
     },
     "execution_count": 4,
     "metadata": {},
     "output_type": "execute_result"
    }
   ],
   "source": [
    "#Get Item\n",
    "scaler.item()"
   ]
  },
  {
   "cell_type": "markdown",
   "id": "effective-winter",
   "metadata": {},
   "source": [
    "#### Now its time for Vectors"
   ]
  },
  {
   "cell_type": "code",
   "execution_count": 5,
   "id": "vocational-termination",
   "metadata": {},
   "outputs": [
    {
     "data": {
      "text/plain": [
       "tensor([10,  5])"
      ]
     },
     "execution_count": 5,
     "metadata": {},
     "output_type": "execute_result"
    }
   ],
   "source": [
    "# Creating a vector\n",
    "vector = torch.tensor([10,5])\n",
    "vector"
   ]
  },
  {
   "cell_type": "code",
   "execution_count": 6,
   "id": "parallel-fellow",
   "metadata": {},
   "outputs": [
    {
     "data": {
      "text/plain": [
       "1"
      ]
     },
     "execution_count": 6,
     "metadata": {},
     "output_type": "execute_result"
    }
   ],
   "source": [
    "# Vector Dimension\n",
    "vector.ndim"
   ]
  },
  {
   "cell_type": "code",
   "execution_count": 7,
   "id": "exposed-yield",
   "metadata": {},
   "outputs": [
    {
     "data": {
      "text/plain": [
       "torch.Size([2])"
      ]
     },
     "execution_count": 7,
     "metadata": {},
     "output_type": "execute_result"
    }
   ],
   "source": [
    "# Shape of vector\n",
    "vector.shape"
   ]
  },
  {
   "cell_type": "markdown",
   "id": "mature-representation",
   "metadata": {},
   "source": [
    "#### Let's look some matrices in torch"
   ]
  },
  {
   "cell_type": "code",
   "execution_count": 8,
   "id": "growing-marks",
   "metadata": {},
   "outputs": [
    {
     "data": {
      "text/plain": [
       "tensor([[1, 2],\n",
       "        [3, 4]])"
      ]
     },
     "execution_count": 8,
     "metadata": {},
     "output_type": "execute_result"
    }
   ],
   "source": [
    "mat = torch.tensor([[1,2],\n",
    "                   [3,4]])\n",
    "mat"
   ]
  },
  {
   "cell_type": "markdown",
   "id": "naked-rolling",
   "metadata": {},
   "source": []
  },
  {
   "cell_type": "code",
   "execution_count": 9,
   "id": "tropical-irish",
   "metadata": {},
   "outputs": [],
   "source": [
    "# dim of matrix"
   ]
  },
  {
   "cell_type": "code",
   "execution_count": 10,
   "id": "friendly-conservation",
   "metadata": {},
   "outputs": [
    {
     "data": {
      "text/plain": [
       "2"
      ]
     },
     "execution_count": 10,
     "metadata": {},
     "output_type": "execute_result"
    }
   ],
   "source": [
    "mat.ndim"
   ]
  },
  {
   "cell_type": "code",
   "execution_count": 11,
   "id": "seeing-overall",
   "metadata": {
    "scrolled": true
   },
   "outputs": [
    {
     "data": {
      "text/plain": [
       "torch.Size([2, 2])"
      ]
     },
     "execution_count": 11,
     "metadata": {},
     "output_type": "execute_result"
    }
   ],
   "source": [
    "# Shape of matrix\n",
    "mat.shape"
   ]
  },
  {
   "cell_type": "markdown",
   "id": "executed-journalism",
   "metadata": {},
   "source": [
    "#### Tenors"
   ]
  },
  {
   "cell_type": "code",
   "execution_count": 12,
   "id": "seeing-fashion",
   "metadata": {},
   "outputs": [
    {
     "data": {
      "text/plain": [
       "tensor([[[1, 2, 3],\n",
       "         [4, 5, 6],\n",
       "         [7, 8, 9]]])"
      ]
     },
     "execution_count": 12,
     "metadata": {},
     "output_type": "execute_result"
    }
   ],
   "source": [
    "tensor = torch.tensor([[[1,2,3],\n",
    "                       [4,5,6],\n",
    "                       [7,8,9]]])\n",
    "\n",
    "tensor"
   ]
  },
  {
   "cell_type": "code",
   "execution_count": 13,
   "id": "portuguese-captain",
   "metadata": {},
   "outputs": [
    {
     "data": {
      "text/plain": [
       "3"
      ]
     },
     "execution_count": 13,
     "metadata": {},
     "output_type": "execute_result"
    }
   ],
   "source": [
    "tensor.ndim"
   ]
  },
  {
   "cell_type": "code",
   "execution_count": 14,
   "id": "superior-weekly",
   "metadata": {},
   "outputs": [
    {
     "data": {
      "text/plain": [
       "torch.Size([1, 3, 3])"
      ]
     },
     "execution_count": 14,
     "metadata": {},
     "output_type": "execute_result"
    }
   ],
   "source": [
    "tensor.shape"
   ]
  },
  {
   "cell_type": "markdown",
   "id": "continental-drawing",
   "metadata": {},
   "source": [
    "#### Create Random value Tensor"
   ]
  },
  {
   "cell_type": "code",
   "execution_count": 15,
   "id": "nuclear-material",
   "metadata": {},
   "outputs": [
    {
     "data": {
      "text/plain": [
       "tensor([[0.9733, 0.7423, 0.0980],\n",
       "        [0.5298, 0.7347, 0.0662],\n",
       "        [0.9790, 0.1250, 0.6381]])"
      ]
     },
     "execution_count": 15,
     "metadata": {},
     "output_type": "execute_result"
    }
   ],
   "source": [
    "rand_tensor = torch.rand(size=(3,3))\n",
    "rand_tensor"
   ]
  },
  {
   "cell_type": "code",
   "execution_count": 16,
   "id": "western-windsor",
   "metadata": {
    "scrolled": true
   },
   "outputs": [
    {
     "data": {
      "text/plain": [
       "torch.Size([240, 240, 3])"
      ]
     },
     "execution_count": 16,
     "metadata": {},
     "output_type": "execute_result"
    }
   ],
   "source": [
    "# create an random  value image\n",
    "\n",
    "img_rand = torch.rand(size=(240,240,3))\n",
    "img_rand.shape"
   ]
  },
  {
   "cell_type": "markdown",
   "id": "blank-wings",
   "metadata": {},
   "source": [
    "#### Creating Ones and Zeros Tensor"
   ]
  },
  {
   "cell_type": "code",
   "execution_count": 17,
   "id": "enclosed-average",
   "metadata": {},
   "outputs": [
    {
     "data": {
      "text/plain": [
       "tensor([[0., 0., 0., 0.],\n",
       "        [0., 0., 0., 0.],\n",
       "        [0., 0., 0., 0.],\n",
       "        [0., 0., 0., 0.]])"
      ]
     },
     "execution_count": 17,
     "metadata": {},
     "output_type": "execute_result"
    }
   ],
   "source": [
    "zeros = torch.zeros(size=(4,4))\n",
    "zeros"
   ]
  },
  {
   "cell_type": "code",
   "execution_count": 18,
   "id": "cardiovascular-marshall",
   "metadata": {},
   "outputs": [
    {
     "data": {
      "text/plain": [
       "tensor([[1., 1., 1., 1.],\n",
       "        [1., 1., 1., 1.],\n",
       "        [1., 1., 1., 1.],\n",
       "        [1., 1., 1., 1.]])"
      ]
     },
     "execution_count": 18,
     "metadata": {},
     "output_type": "execute_result"
    }
   ],
   "source": [
    "ones = torch.ones(size=(4,4))\n",
    "ones"
   ]
  },
  {
   "cell_type": "markdown",
   "id": "subjective-aviation",
   "metadata": {},
   "source": [
    "### Creating Range Like Tensor\n",
    "\n",
    "torch.arange(start,end,step)"
   ]
  },
  {
   "cell_type": "code",
   "execution_count": 19,
   "id": "decreased-senator",
   "metadata": {},
   "outputs": [
    {
     "data": {
      "text/plain": [
       "tensor([10, 12, 14, 16, 18, 20, 22, 24, 26, 28, 30, 32, 34, 36, 38])"
      ]
     },
     "execution_count": 19,
     "metadata": {},
     "output_type": "execute_result"
    }
   ],
   "source": [
    "torch.arange(start=10,end=40,step=2)"
   ]
  },
  {
   "cell_type": "code",
   "execution_count": 20,
   "id": "assumed-rouge",
   "metadata": {},
   "outputs": [
    {
     "data": {
      "text/plain": [
       "tensor([1.5000, 6.6992, 8.0000], dtype=torch.float16)"
      ]
     },
     "execution_count": 20,
     "metadata": {},
     "output_type": "execute_result"
    }
   ],
   "source": [
    "# Create float type tensors\n",
    "\n",
    "torch.tensor([1.5,6.7,8.0],dtype=torch.float16)"
   ]
  },
  {
   "cell_type": "markdown",
   "id": "golden-franklin",
   "metadata": {},
   "source": [
    "### Information about Tensors\n",
    "\n",
    "shape - what shape is the tensor? (some operations require specific shape rules)\n",
    "\n",
    "dtype - what datatype are the elements within the tensor stored in?\n",
    "\n",
    "device - what device is the tensor stored on? (usually GPU or CPU)"
   ]
  },
  {
   "cell_type": "code",
   "execution_count": 21,
   "id": "heard-venue",
   "metadata": {},
   "outputs": [
    {
     "name": "stdout",
     "output_type": "stream",
     "text": [
      "torch.Size([3])\n",
      "torch.int64\n",
      "cpu\n"
     ]
    }
   ],
   "source": [
    "mat = torch.tensor([1,2,3])\n",
    "\n",
    "print(mat.shape)\n",
    "print(mat.dtype)\n",
    "print(mat.device)"
   ]
  },
  {
   "cell_type": "markdown",
   "id": "hindu-banana",
   "metadata": {},
   "source": [
    "## Tensor Operation"
   ]
  },
  {
   "cell_type": "code",
   "execution_count": 22,
   "id": "convenient-washer",
   "metadata": {},
   "outputs": [],
   "source": [
    "# Create a tensor \n",
    "tensor =  torch.tensor([2,4,6])"
   ]
  },
  {
   "cell_type": "code",
   "execution_count": 23,
   "id": "polar-suite",
   "metadata": {},
   "outputs": [
    {
     "data": {
      "text/plain": [
       "tensor([ 7,  9, 11])"
      ]
     },
     "execution_count": 23,
     "metadata": {},
     "output_type": "execute_result"
    }
   ],
   "source": [
    "# Addition\n",
    "tensor + 5"
   ]
  },
  {
   "cell_type": "code",
   "execution_count": 24,
   "id": "shaped-tribute",
   "metadata": {},
   "outputs": [
    {
     "data": {
      "text/plain": [
       "tensor([0, 2, 4])"
      ]
     },
     "execution_count": 24,
     "metadata": {},
     "output_type": "execute_result"
    }
   ],
   "source": [
    "# Substract\n",
    "\n",
    "tensor-2"
   ]
  },
  {
   "cell_type": "code",
   "execution_count": 25,
   "id": "induced-virginia",
   "metadata": {},
   "outputs": [
    {
     "data": {
      "text/plain": [
       "tensor([20, 40, 60])"
      ]
     },
     "execution_count": 25,
     "metadata": {},
     "output_type": "execute_result"
    }
   ],
   "source": [
    "# Multiply\n",
    "\n",
    "tensor *10"
   ]
  },
  {
   "cell_type": "code",
   "execution_count": 26,
   "id": "wanted-lincoln",
   "metadata": {},
   "outputs": [
    {
     "data": {
      "text/plain": [
       "tensor([12, 14, 16])"
      ]
     },
     "execution_count": 26,
     "metadata": {},
     "output_type": "execute_result"
    }
   ],
   "source": [
    "# Operation + Reasign\n",
    "\n",
    "tensor = tensor + 10\n",
    "tensor"
   ]
  },
  {
   "cell_type": "code",
   "execution_count": 27,
   "id": "guilty-updating",
   "metadata": {},
   "outputs": [
    {
     "data": {
      "text/plain": [
       "tensor([24, 28, 32])"
      ]
     },
     "execution_count": 27,
     "metadata": {},
     "output_type": "execute_result"
    }
   ],
   "source": [
    "# torch function for multiplication\n",
    "\n",
    "torch.multiply(tensor,2)"
   ]
  },
  {
   "cell_type": "code",
   "execution_count": 28,
   "id": "british-relaxation",
   "metadata": {},
   "outputs": [
    {
     "data": {
      "text/plain": [
       "tensor([ 2,  6, 12])"
      ]
     },
     "execution_count": 28,
     "metadata": {},
     "output_type": "execute_result"
    }
   ],
   "source": [
    "# Element wise multiplication\n",
    "\n",
    "mat1 = torch.tensor([1,2,3])\n",
    "mat2 = torch.tensor([2,3,4])\n",
    "\n",
    "mat1 * mat2"
   ]
  },
  {
   "cell_type": "code",
   "execution_count": 29,
   "id": "timely-latest",
   "metadata": {},
   "outputs": [
    {
     "data": {
      "text/plain": [
       "tensor(20)"
      ]
     },
     "execution_count": 29,
     "metadata": {},
     "output_type": "execute_result"
    }
   ],
   "source": [
    "# Mat mul\n",
    "\n",
    "torch.matmul(mat1,mat2)"
   ]
  },
  {
   "cell_type": "code",
   "execution_count": 30,
   "id": "fossil-basketball",
   "metadata": {},
   "outputs": [
    {
     "data": {
      "text/plain": [
       "tensor(20)"
      ]
     },
     "execution_count": 30,
     "metadata": {},
     "output_type": "execute_result"
    }
   ],
   "source": [
    "# Can also use the \"@\" symbol for matrix multiplication, though not recommended\n",
    "mat1 @ mat2"
   ]
  },
  {
   "cell_type": "code",
   "execution_count": 31,
   "id": "empty-salad",
   "metadata": {},
   "outputs": [
    {
     "data": {
      "text/plain": [
       "tensor([[31, 36],\n",
       "        [55, 64]])"
      ]
     },
     "execution_count": 31,
     "metadata": {},
     "output_type": "execute_result"
    }
   ],
   "source": [
    "a1 = torch.tensor([[2,3],[4,5]])\n",
    "a2 = torch.tensor([[5,6],[7,8]])\n",
    "\n",
    "torch.matmul(a1,a2)"
   ]
  },
  {
   "cell_type": "markdown",
   "id": "advised-olympus",
   "metadata": {},
   "source": [
    "### We can also use nn module from torch for mat multiplication"
   ]
  },
  {
   "cell_type": "markdown",
   "id": "wanted-triumph",
   "metadata": {},
   "source": [
    "From an neural network perspective\n",
    "\n",
    "### y= x⋅A_T+ b\n",
    "\n",
    "x: input\n",
    "\n",
    "A_T: weights \n",
    "(Remember that we will take transpose of weights matrix if we don't do it nn module throws shpae mismatch error)\n",
    "\n",
    "\n",
    "b: bias\n",
    "\n",
    "y: output"
   ]
  },
  {
   "cell_type": "code",
   "execution_count": 32,
   "id": "worldwide-thinking",
   "metadata": {},
   "outputs": [
    {
     "data": {
      "text/plain": [
       "tensor([[0.9084, 0.4765, 0.8041],\n",
       "        [0.5975, 0.9075, 0.0907]])"
      ]
     },
     "execution_count": 32,
     "metadata": {},
     "output_type": "execute_result"
    }
   ],
   "source": [
    "x = torch.rand(size=(2,3))\n",
    "x"
   ]
  },
  {
   "cell_type": "code",
   "execution_count": 33,
   "id": "electronic-majority",
   "metadata": {},
   "outputs": [
    {
     "data": {
      "text/plain": [
       "2"
      ]
     },
     "execution_count": 33,
     "metadata": {},
     "output_type": "execute_result"
    }
   ],
   "source": [
    "x.ndim"
   ]
  },
  {
   "cell_type": "code",
   "execution_count": 34,
   "id": "loaded-domestic",
   "metadata": {},
   "outputs": [],
   "source": [
    "# in_feature: matches inner dimension of inputs\n",
    "# out_features: describes outer values\n",
    "\n",
    "linear = torch.nn.Linear(in_features=3,out_features=4)"
   ]
  },
  {
   "cell_type": "code",
   "execution_count": 35,
   "id": "united-cuisine",
   "metadata": {},
   "outputs": [
    {
     "data": {
      "text/plain": [
       "tensor([[-0.9178,  0.1314,  0.0140, -0.2461],\n",
       "        [-0.4482,  0.4866,  0.0928, -0.1793]], grad_fn=<AddmmBackward>)"
      ]
     },
     "execution_count": 35,
     "metadata": {},
     "output_type": "execute_result"
    }
   ],
   "source": [
    "linear(x)"
   ]
  },
  {
   "cell_type": "markdown",
   "id": "changed-chaos",
   "metadata": {},
   "source": [
    "Ok let's see what is happening in this module\n",
    "\n",
    "in_features specify the inner dimension of the matrix means actually the no of column of the matrix\n",
    "\n",
    "out_features: the output is for desired output shape (From deep learning perspective we can say it as output neuron)"
   ]
  },
  {
   "cell_type": "markdown",
   "id": "cross-recipient",
   "metadata": {},
   "source": [
    "#### Agregation Operations"
   ]
  },
  {
   "cell_type": "code",
   "execution_count": 36,
   "id": "smooth-packing",
   "metadata": {},
   "outputs": [
    {
     "data": {
      "text/plain": [
       "tensor([0.1908, 0.8334, 0.8143, 0.9610, 0.6294, 0.3123, 0.7598, 0.3975, 0.1312,\n",
       "        0.7137])"
      ]
     },
     "execution_count": 36,
     "metadata": {},
     "output_type": "execute_result"
    }
   ],
   "source": [
    "tensor =  torch.rand(size=(10,))\n",
    "tensor"
   ]
  },
  {
   "cell_type": "code",
   "execution_count": 37,
   "id": "limiting-opening",
   "metadata": {},
   "outputs": [
    {
     "name": "stdout",
     "output_type": "stream",
     "text": [
      "Max 0.9609602689743042\n",
      "Min 0.13122117519378662\n",
      "Type torch.FloatTensor\n"
     ]
    }
   ],
   "source": [
    "print(f'Max {tensor.max()}')\n",
    "print(f'Min {tensor.min()}')\n",
    "print(f'Type {tensor.type()}')\n"
   ]
  },
  {
   "cell_type": "code",
   "execution_count": 38,
   "id": "communist-table",
   "metadata": {},
   "outputs": [
    {
     "data": {
      "text/plain": [
       "tensor(3)"
      ]
     },
     "execution_count": 38,
     "metadata": {},
     "output_type": "execute_result"
    }
   ],
   "source": [
    "## Agrmax Operation\n",
    "\n",
    "tensor.argmax()"
   ]
  },
  {
   "cell_type": "markdown",
   "id": "hybrid-control",
   "metadata": {},
   "source": [
    ".argmax() function returns index of max value in tensor"
   ]
  },
  {
   "cell_type": "markdown",
   "id": "electoral-instrument",
   "metadata": {},
   "source": [
    "## Playing with Shapes"
   ]
  },
  {
   "cell_type": "code",
   "execution_count": 39,
   "id": "frequent-chassis",
   "metadata": {},
   "outputs": [
    {
     "data": {
      "text/plain": [
       "tensor([0.4763, 0.0808, 0.0935, 0.8473, 0.0669, 0.4493, 0.9190, 0.9290, 0.8700,\n",
       "        0.8957])"
      ]
     },
     "execution_count": 39,
     "metadata": {},
     "output_type": "execute_result"
    }
   ],
   "source": [
    "x = torch.rand(size=(10,))\n",
    "x"
   ]
  },
  {
   "cell_type": "code",
   "execution_count": 40,
   "id": "entertaining-liability",
   "metadata": {
    "scrolled": true
   },
   "outputs": [
    {
     "data": {
      "text/plain": [
       "tensor([[0.4763, 0.0808, 0.0935, 0.8473, 0.0669],\n",
       "        [0.4493, 0.9190, 0.9290, 0.8700, 0.8957]])"
      ]
     },
     "execution_count": 40,
     "metadata": {},
     "output_type": "execute_result"
    }
   ],
   "source": [
    "# Reshape tensor\n",
    "\n",
    "x_reshaped = x.reshape(2,5)\n",
    "x_reshaped"
   ]
  },
  {
   "cell_type": "code",
   "execution_count": 41,
   "id": "destroyed-curtis",
   "metadata": {},
   "outputs": [
    {
     "data": {
      "text/plain": [
       "tensor([[0.4763, 0.0808, 0.0935, 0.8473, 0.0669, 0.4493, 0.9190, 0.9290, 0.8700,\n",
       "         0.8957],\n",
       "        [0.4763, 0.0808, 0.0935, 0.8473, 0.0669, 0.4493, 0.9190, 0.9290, 0.8700,\n",
       "         0.8957],\n",
       "        [0.4763, 0.0808, 0.0935, 0.8473, 0.0669, 0.4493, 0.9190, 0.9290, 0.8700,\n",
       "         0.8957]])"
      ]
     },
     "execution_count": 41,
     "metadata": {},
     "output_type": "execute_result"
    }
   ],
   "source": [
    "# Stack the tensors\n",
    "\n",
    "x_stacked = torch.stack([x,x,x])\n",
    "x_stacked"
   ]
  },
  {
   "cell_type": "code",
   "execution_count": 42,
   "id": "effective-monte",
   "metadata": {},
   "outputs": [
    {
     "data": {
      "text/plain": [
       "torch.Size([3, 10])"
      ]
     },
     "execution_count": 42,
     "metadata": {},
     "output_type": "execute_result"
    }
   ],
   "source": [
    "x_stacked.shape"
   ]
  },
  {
   "cell_type": "code",
   "execution_count": 43,
   "id": "unique-eagle",
   "metadata": {},
   "outputs": [
    {
     "name": "stdout",
     "output_type": "stream",
     "text": [
      "Tensor: tensor([[0.1326, 0.6030, 0.0122, 0.5864, 0.4100]])\n",
      "Tensor Shape: torch.Size([1, 5])\n"
     ]
    }
   ],
   "source": [
    "# Squeeze for removing extra dimension from tensor\n",
    "\n",
    "y = torch.rand(size=(1,5))\n",
    "print(f'Tensor: {y}')\n",
    "print(f'Tensor Shape: {y.shape}')"
   ]
  },
  {
   "cell_type": "code",
   "execution_count": 44,
   "id": "southwest-corps",
   "metadata": {},
   "outputs": [
    {
     "name": "stdout",
     "output_type": "stream",
     "text": [
      "Tensor: tensor([0.1326, 0.6030, 0.0122, 0.5864, 0.4100])\n",
      "Tensor Shape: torch.Size([5])\n"
     ]
    }
   ],
   "source": [
    "# after squeezing\n",
    "\n",
    "y_sq = y.squeeze()\n",
    "\n",
    "print(f'Tensor: {y_sq}')\n",
    "print(f'Tensor Shape: {y_sq.shape}')"
   ]
  },
  {
   "cell_type": "markdown",
   "id": "provincial-bacon",
   "metadata": {},
   "source": [
    "## Indexing"
   ]
  },
  {
   "cell_type": "code",
   "execution_count": 45,
   "id": "metropolitan-arrival",
   "metadata": {},
   "outputs": [
    {
     "data": {
      "text/plain": [
       "tensor([0.8822, 0.0572, 0.6705, 0.1751, 0.4057, 0.7120, 0.4366, 0.9304, 0.6242,\n",
       "        0.4766])"
      ]
     },
     "execution_count": 45,
     "metadata": {},
     "output_type": "execute_result"
    }
   ],
   "source": [
    "arr =  torch.rand(size=(10,))\n",
    "arr"
   ]
  },
  {
   "cell_type": "code",
   "execution_count": 46,
   "id": "abandoned-duration",
   "metadata": {},
   "outputs": [
    {
     "data": {
      "text/plain": [
       "tensor(0.8822)"
      ]
     },
     "execution_count": 46,
     "metadata": {},
     "output_type": "execute_result"
    }
   ],
   "source": [
    "# First element\n",
    "arr[0]"
   ]
  },
  {
   "cell_type": "code",
   "execution_count": 47,
   "id": "loose-foundation",
   "metadata": {},
   "outputs": [
    {
     "data": {
      "text/plain": [
       "tensor([0.8822, 0.0572, 0.6705, 0.1751, 0.4057])"
      ]
     },
     "execution_count": 47,
     "metadata": {},
     "output_type": "execute_result"
    }
   ],
   "source": [
    "# start from 0 to 4\n",
    "arr[:5]"
   ]
  },
  {
   "cell_type": "code",
   "execution_count": 48,
   "id": "stunning-return",
   "metadata": {},
   "outputs": [
    {
     "data": {
      "text/plain": [
       "tensor(0.4766)"
      ]
     },
     "execution_count": 48,
     "metadata": {},
     "output_type": "execute_result"
    }
   ],
   "source": [
    "# For last element\n",
    "arr[-1]"
   ]
  },
  {
   "cell_type": "code",
   "execution_count": 49,
   "id": "approximate-beast",
   "metadata": {
    "scrolled": true
   },
   "outputs": [
    {
     "data": {
      "text/plain": [
       "torch.Size([10, 5])"
      ]
     },
     "execution_count": 49,
     "metadata": {},
     "output_type": "execute_result"
    }
   ],
   "source": [
    "mat = torch.rand(size=(10,5))\n",
    "mat.shape"
   ]
  },
  {
   "cell_type": "code",
   "execution_count": 50,
   "id": "demanding-aaron",
   "metadata": {},
   "outputs": [
    {
     "data": {
      "text/plain": [
       "tensor([[0.9126, 0.0262, 0.3753, 0.5627, 0.6249],\n",
       "        [0.0412, 0.5366, 0.3683, 0.7437, 0.1137],\n",
       "        [0.7517, 0.4699, 0.2195, 0.5195, 0.9021],\n",
       "        [0.7996, 0.6750, 0.6937, 0.1434, 0.5945],\n",
       "        [0.9224, 0.6254, 0.4342, 0.4762, 0.6709],\n",
       "        [0.2296, 0.3339, 0.5948, 0.5295, 0.4331],\n",
       "        [0.1911, 0.0979, 0.2716, 0.6519, 0.6312],\n",
       "        [0.5298, 0.2288, 0.0638, 0.5603, 0.4560],\n",
       "        [0.1859, 0.6622, 0.7094, 0.9196, 0.9933],\n",
       "        [0.8544, 0.4521, 0.5720, 0.3376, 0.3500]])"
      ]
     },
     "execution_count": 50,
     "metadata": {},
     "output_type": "execute_result"
    }
   ],
   "source": [
    "mat"
   ]
  },
  {
   "cell_type": "code",
   "execution_count": 51,
   "id": "preliminary-footage",
   "metadata": {},
   "outputs": [
    {
     "data": {
      "text/plain": [
       "tensor(0.3683)"
      ]
     },
     "execution_count": 51,
     "metadata": {},
     "output_type": "execute_result"
    }
   ],
   "source": [
    "# Row 1 and col 2\n",
    "mat[1,2]"
   ]
  },
  {
   "cell_type": "code",
   "execution_count": 52,
   "id": "conceptual-finger",
   "metadata": {},
   "outputs": [
    {
     "data": {
      "text/plain": [
       "tensor([0.0262, 0.5366, 0.4699, 0.6750, 0.6254, 0.3339, 0.0979, 0.2288, 0.6622,\n",
       "        0.4521])"
      ]
     },
     "execution_count": 52,
     "metadata": {},
     "output_type": "execute_result"
    }
   ],
   "source": [
    "# all element of column 1\n",
    "mat[:,1]"
   ]
  },
  {
   "cell_type": "code",
   "execution_count": 53,
   "id": "naughty-ordinary",
   "metadata": {},
   "outputs": [
    {
     "data": {
      "text/plain": [
       "tensor([0.0412, 0.5366, 0.3683, 0.7437, 0.1137])"
      ]
     },
     "execution_count": 53,
     "metadata": {},
     "output_type": "execute_result"
    }
   ],
   "source": [
    "# row 1 and all elements of col\n",
    "mat[1,:]"
   ]
  },
  {
   "cell_type": "markdown",
   "id": "threatened-planet",
   "metadata": {},
   "source": [
    "## Convert Torch Tensor to Numpy"
   ]
  },
  {
   "cell_type": "code",
   "execution_count": 54,
   "id": "presidential-money",
   "metadata": {},
   "outputs": [
    {
     "data": {
      "text/plain": [
       "tensor([[7.8921e-02, 4.7682e-01, 8.4728e-01, 2.2645e-01, 7.5891e-01],\n",
       "        [2.1035e-01, 3.0517e-01, 8.9538e-01, 5.6117e-01, 6.9231e-04]])"
      ]
     },
     "execution_count": 54,
     "metadata": {},
     "output_type": "execute_result"
    }
   ],
   "source": [
    "mat = torch.rand(size=(2,5))\n",
    "mat"
   ]
  },
  {
   "cell_type": "code",
   "execution_count": 55,
   "id": "brief-falls",
   "metadata": {},
   "outputs": [],
   "source": [
    "np_mat = mat.numpy()"
   ]
  },
  {
   "cell_type": "code",
   "execution_count": 56,
   "id": "referenced-reasoning",
   "metadata": {},
   "outputs": [
    {
     "data": {
      "text/plain": [
       "array([[7.8920782e-02, 4.7682387e-01, 8.4728372e-01, 2.2645146e-01,\n",
       "        7.5890535e-01],\n",
       "       [2.1034813e-01, 3.0516952e-01, 8.9538395e-01, 5.6117195e-01,\n",
       "        6.9230795e-04]], dtype=float32)"
      ]
     },
     "execution_count": 56,
     "metadata": {},
     "output_type": "execute_result"
    }
   ],
   "source": [
    "np_mat"
   ]
  },
  {
   "cell_type": "markdown",
   "id": "described-passenger",
   "metadata": {},
   "source": [
    "### Check GPU in your machine"
   ]
  },
  {
   "cell_type": "code",
   "execution_count": 57,
   "id": "utility-princess",
   "metadata": {},
   "outputs": [
    {
     "name": "stdout",
     "output_type": "stream",
     "text": [
      "Tue Dec  6 17:11:10 2022       \n",
      "+-----------------------------------------------------------------------------+\n",
      "| NVIDIA-SMI 496.49       Driver Version: 496.49       CUDA Version: 11.5     |\n",
      "|-------------------------------+----------------------+----------------------+\n",
      "| GPU  Name            TCC/WDDM | Bus-Id        Disp.A | Volatile Uncorr. ECC |\n",
      "| Fan  Temp  Perf  Pwr:Usage/Cap|         Memory-Usage | GPU-Util  Compute M. |\n",
      "|                               |                      |               MIG M. |\n",
      "|===============================+======================+======================|\n",
      "|   0  NVIDIA GeForce ... WDDM  | 00000000:01:00.0  On |                  N/A |\n",
      "| 31%   33C    P8    10W / 100W |   1071MiB /  4096MiB |     25%      Default |\n",
      "|                               |                      |                  N/A |\n",
      "+-------------------------------+----------------------+----------------------+\n",
      "                                                                               \n",
      "+-----------------------------------------------------------------------------+\n",
      "| Processes:                                                                  |\n",
      "|  GPU   GI   CI        PID   Type   Process name                  GPU Memory |\n",
      "|        ID   ID                                                   Usage      |\n",
      "|=============================================================================|\n",
      "|    0   N/A  N/A      1288    C+G   Insufficient Permissions        N/A      |\n",
      "|    0   N/A  N/A      2992    C+G   ...(x86)\\AnyDesk\\AnyDesk.exe    N/A      |\n",
      "|    0   N/A  N/A      3844    C+G   ...8bbwe\\WindowsTerminal.exe    N/A      |\n",
      "|    0   N/A  N/A      5176    C+G   ...(x86)\\Pritunl\\pritunl.exe    N/A      |\n",
      "|    0   N/A  N/A      6276    C+G   ...ck\\app-4.29.149\\slack.exe    N/A      |\n",
      "|    0   N/A  N/A      6452    C+G   ...icrosoft VS Code\\Code.exe    N/A      |\n",
      "|    0   N/A  N/A      6624    C+G   ...4__8wekyb3d8bbwe\\Todo.exe    N/A      |\n",
      "|    0   N/A  N/A      8040    C+G   ...lPanel\\SystemSettings.exe    N/A      |\n",
      "|    0   N/A  N/A      9872    C+G   ...b3d8bbwe\\ScreenSketch.exe    N/A      |\n",
      "|    0   N/A  N/A     10700    C+G   C:\\Windows\\explorer.exe         N/A      |\n",
      "|    0   N/A  N/A     12208    C+G   ...e\\root\\Office16\\EXCEL.EXE    N/A      |\n",
      "|    0   N/A  N/A     12428    C+G   ...2txyewy\\TextInputHost.exe    N/A      |\n",
      "|    0   N/A  N/A     12456    C+G   ...n1h2txyewy\\SearchHost.exe    N/A      |\n",
      "|    0   N/A  N/A     12576    C+G   ...artMenuExperienceHost.exe    N/A      |\n",
      "|    0   N/A  N/A     13520    C+G   ...418.62\\msedgewebview2.exe    N/A      |\n",
      "|    0   N/A  N/A     13648    C+G   ...8bbwe\\Notepad\\Notepad.exe    N/A      |\n",
      "|    0   N/A  N/A     13936    C+G   ...ge\\Application\\msedge.exe    N/A      |\n",
      "|    0   N/A  N/A     14816    C+G   ...me\\Application\\chrome.exe    N/A      |\n",
      "|    0   N/A  N/A     16276    C+G   ...perience\\NVIDIA Share.exe    N/A      |\n",
      "|    0   N/A  N/A     18180    C+G   ...8bbwe\\WindowsTerminal.exe    N/A      |\n",
      "|    0   N/A  N/A     19040    C+G   ...y\\ShellExperienceHost.exe    N/A      |\n",
      "+-----------------------------------------------------------------------------+\n"
     ]
    }
   ],
   "source": [
    "!nvidia-smi"
   ]
  },
  {
   "cell_type": "code",
   "execution_count": null,
   "id": "ready-baghdad",
   "metadata": {},
   "outputs": [],
   "source": []
  }
 ],
 "metadata": {
  "kernelspec": {
   "display_name": "Python 3",
   "language": "python",
   "name": "python3"
  },
  "language_info": {
   "codemirror_mode": {
    "name": "ipython",
    "version": 3
   },
   "file_extension": ".py",
   "mimetype": "text/x-python",
   "name": "python",
   "nbconvert_exporter": "python",
   "pygments_lexer": "ipython3",
   "version": "3.8.3"
  }
 },
 "nbformat": 4,
 "nbformat_minor": 5
}
