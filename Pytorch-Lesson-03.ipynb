{
 "cells": [
  {
   "cell_type": "markdown",
   "id": "judicial-highlight",
   "metadata": {},
   "source": [
    "# Classification\n",
    "\n",
    "A classification problem in machine learning is one in which a class label is anticipated for a specific example of input data\n",
    "\n",
    "### Types of Classification\n",
    "\n",
    "#### Binary classification:\n",
    "\n",
    "Target can be one of two options, e.g. yes or no\n",
    "\n",
    "#### Multi-class classification:\n",
    "\n",
    "Target can be one of more than two options\n",
    "\n",
    "#### Multi-label classification:\n",
    "\n",
    "Target can be assigned more than one option (Like a movie falll into different genre)"
   ]
  },
  {
   "cell_type": "markdown",
   "id": "noticed-harbor",
   "metadata": {},
   "source": [
    "# 1) Load Dataset"
   ]
  },
  {
   "cell_type": "code",
   "execution_count": 1,
   "id": "environmental-dancing",
   "metadata": {},
   "outputs": [],
   "source": [
    "# https://scikit-learn.org/stable/modules/generated/sklearn.datasets.make_moons.html\n",
    "# you can visit the above site for datasets\n",
    "\n",
    "from sklearn.datasets import make_moons"
   ]
  },
  {
   "cell_type": "code",
   "execution_count": 2,
   "id": "enabling-loading",
   "metadata": {},
   "outputs": [],
   "source": [
    "x,y = make_moons(1000)"
   ]
  },
  {
   "cell_type": "code",
   "execution_count": 3,
   "id": "creative-birmingham",
   "metadata": {},
   "outputs": [
    {
     "data": {
      "text/plain": [
       "(1000, 2)"
      ]
     },
     "execution_count": 3,
     "metadata": {},
     "output_type": "execute_result"
    }
   ],
   "source": [
    "x.shape"
   ]
  },
  {
   "cell_type": "code",
   "execution_count": 4,
   "id": "productive-reserve",
   "metadata": {},
   "outputs": [
    {
     "data": {
      "text/plain": [
       "array([[ 9.40225772e-01, -4.98211922e-01],\n",
       "       [ 7.53308116e-01,  6.57667759e-01],\n",
       "       [ 1.53412468e+00, -3.45405714e-01],\n",
       "       [-8.43720163e-01,  5.36783277e-01],\n",
       "       [ 9.09750838e-01,  4.15154685e-01],\n",
       "       [-7.77607992e-01,  6.28749402e-01],\n",
       "       [-5.60468103e-01,  8.28176011e-01],\n",
       "       [ 1.34825731e+00, -4.37398978e-01],\n",
       "       [ 3.17077692e-04,  4.74819554e-01],\n",
       "       [ 1.94064596e+00,  1.60610568e-01]])"
      ]
     },
     "execution_count": 4,
     "metadata": {},
     "output_type": "execute_result"
    }
   ],
   "source": [
    "x[:10]"
   ]
  },
  {
   "cell_type": "code",
   "execution_count": 5,
   "id": "prescribed-underground",
   "metadata": {},
   "outputs": [
    {
     "data": {
      "text/plain": [
       "array([1, 0, 1, 0, 0, 0, 0, 1, 1, 1], dtype=int64)"
      ]
     },
     "execution_count": 5,
     "metadata": {},
     "output_type": "execute_result"
    }
   ],
   "source": [
    "y[:10]"
   ]
  },
  {
   "cell_type": "code",
   "execution_count": 6,
   "id": "contrary-gather",
   "metadata": {},
   "outputs": [
    {
     "data": {
      "text/html": [
       "<div>\n",
       "<style scoped>\n",
       "    .dataframe tbody tr th:only-of-type {\n",
       "        vertical-align: middle;\n",
       "    }\n",
       "\n",
       "    .dataframe tbody tr th {\n",
       "        vertical-align: top;\n",
       "    }\n",
       "\n",
       "    .dataframe thead th {\n",
       "        text-align: right;\n",
       "    }\n",
       "</style>\n",
       "<table border=\"1\" class=\"dataframe\">\n",
       "  <thead>\n",
       "    <tr style=\"text-align: right;\">\n",
       "      <th></th>\n",
       "      <th>X1</th>\n",
       "      <th>X2</th>\n",
       "      <th>label</th>\n",
       "    </tr>\n",
       "  </thead>\n",
       "  <tbody>\n",
       "    <tr>\n",
       "      <th>0</th>\n",
       "      <td>0.940226</td>\n",
       "      <td>-0.498212</td>\n",
       "      <td>1</td>\n",
       "    </tr>\n",
       "    <tr>\n",
       "      <th>1</th>\n",
       "      <td>0.753308</td>\n",
       "      <td>0.657668</td>\n",
       "      <td>0</td>\n",
       "    </tr>\n",
       "    <tr>\n",
       "      <th>2</th>\n",
       "      <td>1.534125</td>\n",
       "      <td>-0.345406</td>\n",
       "      <td>1</td>\n",
       "    </tr>\n",
       "    <tr>\n",
       "      <th>3</th>\n",
       "      <td>-0.843720</td>\n",
       "      <td>0.536783</td>\n",
       "      <td>0</td>\n",
       "    </tr>\n",
       "    <tr>\n",
       "      <th>4</th>\n",
       "      <td>0.909751</td>\n",
       "      <td>0.415155</td>\n",
       "      <td>0</td>\n",
       "    </tr>\n",
       "  </tbody>\n",
       "</table>\n",
       "</div>"
      ],
      "text/plain": [
       "         X1        X2  label\n",
       "0  0.940226 -0.498212      1\n",
       "1  0.753308  0.657668      0\n",
       "2  1.534125 -0.345406      1\n",
       "3 -0.843720  0.536783      0\n",
       "4  0.909751  0.415155      0"
      ]
     },
     "execution_count": 6,
     "metadata": {},
     "output_type": "execute_result"
    }
   ],
   "source": [
    "import pandas as pd\n",
    "moons = pd.DataFrame({\"X1\": x[:, 0],\n",
    "    \"X2\": x[:, 1],\n",
    "    \"label\": y\n",
    "})\n",
    "\n",
    "moons.head()"
   ]
  },
  {
   "cell_type": "code",
   "execution_count": 7,
   "id": "animated-screening",
   "metadata": {},
   "outputs": [
    {
     "data": {
      "text/plain": [
       "0    500\n",
       "1    500\n",
       "Name: label, dtype: int64"
      ]
     },
     "execution_count": 7,
     "metadata": {},
     "output_type": "execute_result"
    }
   ],
   "source": [
    "# lets check the label count\n",
    "\n",
    "moons.label.value_counts()"
   ]
  },
  {
   "cell_type": "code",
   "execution_count": 8,
   "id": "lucky-alias",
   "metadata": {},
   "outputs": [
    {
     "data": {
      "image/png": "[encoded data removed]",
      "text/plain": [
       "<Figure size 432x288 with 1 Axes>"
      ]
     },
     "metadata": {
      "needs_background": "light"
     },
     "output_type": "display_data"
    }
   ],
   "source": [
    "# Visualize with a plot\n",
    "import matplotlib.pyplot as plt\n",
    "plt.scatter(x=x[:, 0], \n",
    "            y=x[:, 1], \n",
    "            c=y, \n",
    "            cmap=plt.cm.RdYlBu);"
   ]
  },
  {
   "cell_type": "markdown",
   "id": "coordinate-mustang",
   "metadata": {},
   "source": [
    "#### Convert data into tensors"
   ]
  },
  {
   "cell_type": "code",
   "execution_count": 9,
   "id": "urban-beverage",
   "metadata": {},
   "outputs": [
    {
     "data": {
      "text/plain": [
       "(tensor([[ 0.9402, -0.4982],\n",
       "         [ 0.7533,  0.6577],\n",
       "         [ 1.5341, -0.3454],\n",
       "         [-0.8437,  0.5368],\n",
       "         [ 0.9098,  0.4152]]),\n",
       " tensor([1., 0., 1., 0., 0.]))"
      ]
     },
     "execution_count": 9,
     "metadata": {},
     "output_type": "execute_result"
    }
   ],
   "source": [
    "import torch\n",
    "\n",
    "x= torch.from_numpy(x).type(torch.float)\n",
    "y = torch.from_numpy(y).type(torch.float)\n",
    "\n",
    "x[:5],y[:5]"
   ]
  },
  {
   "cell_type": "code",
   "execution_count": 10,
   "id": "complicated-banner",
   "metadata": {},
   "outputs": [
    {
     "data": {
      "text/plain": [
       "torch.Size([1000, 2])"
      ]
     },
     "execution_count": 10,
     "metadata": {},
     "output_type": "execute_result"
    }
   ],
   "source": [
    "x.shape"
   ]
  },
  {
   "cell_type": "code",
   "execution_count": 11,
   "id": "direct-firewall",
   "metadata": {},
   "outputs": [
    {
     "data": {
      "text/plain": [
       "(700, 300, 700, 300)"
      ]
     },
     "execution_count": 11,
     "metadata": {},
     "output_type": "execute_result"
    }
   ],
   "source": [
    "\n",
    "# Split data into train and test sets\n",
    "from sklearn.model_selection import train_test_split\n",
    "\n",
    "x_train, x_test, y_train, y_test = train_test_split(x, \n",
    "                                                    y, \n",
    "                                                    test_size=0.3, # 30% test, 70% train\n",
    "                                                    random_state=42) # make the random split reproducible\n",
    "\n",
    "len(x_train), len(x_test), len(y_train), len(y_test)"
   ]
  },
  {
   "cell_type": "markdown",
   "id": "connected-rendering",
   "metadata": {},
   "source": [
    "# 2) Build the Model\n",
    "\n"
   ]
  },
  {
   "cell_type": "code",
   "execution_count": 12,
   "id": "occupied-harris",
   "metadata": {},
   "outputs": [],
   "source": [
    "class MoonClassifier(torch.nn.Module):\n",
    "    \n",
    "    def __init__(self):\n",
    "        super().__init__()\n",
    "        \n",
    "        # Define architecture\n",
    "        \n",
    "        self.layer1 = torch.nn.Linear(in_features=2,out_features=10)\n",
    "        self.layer2 = torch.nn.Linear(in_features=10,out_features=5)\n",
    "        self.layer3 = torch.nn.Linear(in_features=5,out_features=1)\n",
    "        \n",
    "    # Define forward method\n",
    "    \n",
    "    def forward(self,data):\n",
    "        l1_out = self.layer1(data)\n",
    "        l2_out = self.layer2(l1_out)\n",
    "        l3_out = self.layer3(l2_out)\n",
    "        \n",
    "        return l3_out\n",
    "        "
   ]
  },
  {
   "cell_type": "code",
   "execution_count": 13,
   "id": "brief-conclusion",
   "metadata": {},
   "outputs": [
    {
     "data": {
      "text/plain": [
       "MoonClassifier(\n",
       "  (layer1): Linear(in_features=2, out_features=10, bias=True)\n",
       "  (layer2): Linear(in_features=10, out_features=5, bias=True)\n",
       "  (layer3): Linear(in_features=5, out_features=1, bias=True)\n",
       ")"
      ]
     },
     "execution_count": 13,
     "metadata": {},
     "output_type": "execute_result"
    }
   ],
   "source": [
    "model_0 = MoonClassifier()\n",
    "model_0"
   ]
  },
  {
   "cell_type": "markdown",
   "id": "aggressive-newfoundland",
   "metadata": {},
   "source": [
    "#### Lets discuss architecture\n",
    "\n",
    "As we have 2 inputs for our network we define in_features of layer1 as 2 and its output neuron are 10.\n",
    "\n",
    "In second layer the previous 10 neuron output pass through the second layer and\n",
    "its output neurions are 5.\n",
    "\n",
    "In 3rd layer the input are 5 and the output is 1 neuron  becuase we are doing binary classification here."
   ]
  },
  {
   "cell_type": "markdown",
   "id": "adequate-print",
   "metadata": {},
   "source": [
    "### Set Loss function and Optimizer\n",
    "\n",
    "For binary classification we use sigmoid function and Binary crossentropy loss"
   ]
  },
  {
   "cell_type": "code",
   "execution_count": 14,
   "id": "agreed-breach",
   "metadata": {},
   "outputs": [],
   "source": [
    "loss_fn = torch.nn.BCEWithLogitsLoss() # BCEWithLogitsLoss - BinaryCrossEntropy\n",
    "\n",
    "# Create an optimizer\n",
    "optimizer = torch.optim.SGD(params=model_0.parameters(), \n",
    "                            lr=00.1)"
   ]
  },
  {
   "cell_type": "code",
   "execution_count": 15,
   "id": "sublime-summary",
   "metadata": {},
   "outputs": [],
   "source": [
    "# Calculate accuracy (a classification metric)\n",
    "def accuracy_fn(y_true, y_pred):\n",
    "    correct = torch.eq(y_true, y_pred).sum().item() \n",
    "    acc = (correct / len(y_pred)) * 100 \n",
    "    return acc"
   ]
  },
  {
   "cell_type": "markdown",
   "id": "boring-chamber",
   "metadata": {},
   "source": [
    "# 3) Train Model\n",
    "\n",
    "Model outputs 0 and 1 but wait the sigmoid function give a continous value  between 0-1. On backend what it actually does is that, \n",
    "\n",
    "if y_pred >= 0.5, y=1 (class 1)\n",
    "if y_pred < 0.5, y=0 (class 0)"
   ]
  },
  {
   "cell_type": "code",
   "execution_count": 16,
   "id": "concrete-compromise",
   "metadata": {},
   "outputs": [
    {
     "name": "stdout",
     "output_type": "stream",
     "text": [
      "Epoch: 0 | Loss: 0.74980, Accuracy: 29.57% | Test loss: 0.73445, Test acc: 36.33%\n",
      "Epoch: 50 | Loss: 0.47057, Accuracy: 76.00% | Test loss: 0.47477, Test acc: 73.00%\n",
      "Epoch: 100 | Loss: 0.27967, Accuracy: 86.00% | Test loss: 0.31333, Test acc: 82.67%\n",
      "Epoch: 150 | Loss: 0.23490, Accuracy: 88.86% | Test loss: 0.27458, Test acc: 86.33%\n",
      "Epoch: 200 | Loss: 0.22639, Accuracy: 89.57% | Test loss: 0.26835, Test acc: 87.33%\n",
      "Epoch: 250 | Loss: 0.22481, Accuracy: 89.71% | Test loss: 0.26778, Test acc: 87.33%\n",
      "Epoch: 300 | Loss: 0.22449, Accuracy: 90.00% | Test loss: 0.26792, Test acc: 87.33%\n",
      "Epoch: 350 | Loss: 0.22442, Accuracy: 90.00% | Test loss: 0.26806, Test acc: 87.33%\n",
      "Epoch: 400 | Loss: 0.22441, Accuracy: 90.00% | Test loss: 0.26814, Test acc: 87.33%\n",
      "Epoch: 450 | Loss: 0.22441, Accuracy: 90.00% | Test loss: 0.26819, Test acc: 87.33%\n"
     ]
    }
   ],
   "source": [
    "# Set the number of epochs\n",
    "epochs = 500\n",
    "epoch_count = []\n",
    "testing_acc = []\n",
    "training_acc = []\n",
    "\n",
    "testing_loss = []\n",
    "training_loss = []\n",
    "\n",
    "# Build training and evaluation loop\n",
    "for epoch in range(epochs):\n",
    "    ### Training\n",
    "    model_0.train()\n",
    "\n",
    "    # 1. Forward pass (model outputs raw logits)\n",
    "    y_logits = model_0(x_train).squeeze() # squeeze to remove extra `1` dimensions, this won't work unless model and data are on same device \n",
    "    y_pred = torch.round(torch.sigmoid(y_logits)) # turn logits -> pred probs -> pred labls\n",
    "  \n",
    "    # 2. Calculate loss/accuracy\n",
    "    loss = loss_fn(y_logits, # Using nn.BCEWithLogitsLoss works with raw logits\n",
    "                   y_train) \n",
    "    \n",
    "    \n",
    "    \n",
    "    acc = accuracy_fn(y_true=y_train, \n",
    "                      y_pred=y_pred) \n",
    "    \n",
    "    \n",
    "\n",
    "    # 3. Optimizer zero grad\n",
    "    optimizer.zero_grad()\n",
    "\n",
    "    # 4. Loss backwards\n",
    "    loss.backward()\n",
    "\n",
    "    # 5. Optimizer step\n",
    "    optimizer.step()\n",
    "\n",
    "    ### Testing\n",
    "    model_0.eval()\n",
    "    with torch.no_grad():\n",
    "        # 1. Forward pass\n",
    "        test_logits = model_0(x_test).squeeze() \n",
    "        test_pred = torch.round(torch.sigmoid(test_logits))\n",
    "     \n",
    "       # 2. Caculate loss/accuracy\n",
    "        test_loss = loss_fn(test_logits,\n",
    "                            y_test)\n",
    "        \n",
    "       \n",
    "        \n",
    "        test_acc = accuracy_fn(y_true=y_test,\n",
    "                               y_pred=test_pred)\n",
    "       \n",
    "        \n",
    "        \n",
    "    # Print out what's happening every 50 epochs\n",
    "    if epoch % 50 == 0:\n",
    "        training_acc.append(acc)\n",
    "        testing_acc.append(test_acc)\n",
    "        \n",
    "        training_loss.append(loss)\n",
    "        testing_loss.append(test_loss)\n",
    "        \n",
    "        epoch_count.append(epoch)\n",
    "        \n",
    "        print(f\"Epoch: {epoch} | Loss: {loss:.5f}, Accuracy: {acc:.2f}% | Test loss: {test_loss:.5f}, Test acc: {test_acc:.2f}%\")"
   ]
  },
  {
   "cell_type": "code",
   "execution_count": 17,
   "id": "sonic-discharge",
   "metadata": {},
   "outputs": [
    {
     "data": {
      "image/png": "[encoded data removed]",
      "text/plain": [
       "<Figure size 432x288 with 1 Axes>"
      ]
     },
     "metadata": {
      "needs_background": "light"
     },
     "output_type": "display_data"
    }
   ],
   "source": [
    "plt.plot(epoch_count,training_acc,label='train_accuracy')\n",
    "plt.plot(epoch_count,testing_acc,label='test_accuracy')\n",
    "plt.ylabel('Accuracy')\n",
    "plt.xlabel('Epochs')\n",
    "plt.legend()\n",
    "plt.show()"
   ]
  },
  {
   "cell_type": "code",
   "execution_count": 18,
   "id": "creative-hormone",
   "metadata": {},
   "outputs": [
    {
     "data": {
      "image/png": "[encoded data removed]",
      "text/plain": [
       "<Figure size 432x288 with 1 Axes>"
      ]
     },
     "metadata": {
      "needs_background": "light"
     },
     "output_type": "display_data"
    }
   ],
   "source": [
    "plt.plot(epoch_count,training_loss,label='train_loss')\n",
    "plt.plot(epoch_count,testing_loss,label='test_loss')\n",
    "plt.ylabel('Loss')\n",
    "plt.xlabel('Epochs')\n",
    "plt.legend()\n",
    "plt.show()"
   ]
  },
  {
   "cell_type": "markdown",
   "id": "sound-shape",
   "metadata": {},
   "source": [
    "#### We can also increase the number of layers, epochsm activation functions and other hyperparameter to increase its accuracy."
   ]
  },
  {
   "cell_type": "markdown",
   "id": "delayed-shirt",
   "metadata": {},
   "source": [
    "# Multi Class Classification"
   ]
  },
  {
   "cell_type": "markdown",
   "id": "enabling-aspect",
   "metadata": {},
   "source": [
    "## Load Dataset"
   ]
  },
  {
   "cell_type": "code",
   "execution_count": 19,
   "id": "differential-concrete",
   "metadata": {},
   "outputs": [
    {
     "name": "stdout",
     "output_type": "stream",
     "text": [
      "tensor([[-8.4134,  6.9352],\n",
      "        [-5.7665, -6.4312],\n",
      "        [-6.0421, -6.7661],\n",
      "        [ 3.9508,  0.6984],\n",
      "        [ 4.2505, -0.2815]]) tensor([3, 2, 2, 1, 1])\n"
     ]
    },
    {
     "data": {
      "image/png": "[encoded data removed]",
      "text/plain": [
       "<Figure size 720x504 with 1 Axes>"
      ]
     },
     "metadata": {
      "needs_background": "light"
     },
     "output_type": "display_data"
    }
   ],
   "source": [
    "import torch\n",
    "import matplotlib.pyplot as plt\n",
    "from sklearn.datasets import make_blobs\n",
    "from sklearn.model_selection import train_test_split\n",
    "\n",
    "# Set the hyperparameters for data creation\n",
    "NUM_CLASSES = 4\n",
    "NUM_FEATURES = 2\n",
    "RANDOM_SEED = 42\n",
    "\n",
    "# 1. Create multi-class data\n",
    "X_blob, y_blob = make_blobs(n_samples=1000,\n",
    "    n_features=NUM_FEATURES, # X features\n",
    "    centers=NUM_CLASSES, # y labels \n",
    "    cluster_std=1.5, # give the clusters a little shake up (try changing this to 1.0, the default)\n",
    "    random_state=RANDOM_SEED\n",
    ")\n",
    "\n",
    "# 2. Convert data into tensors\n",
    "X_blob = torch.from_numpy(X_blob).type(torch.float)\n",
    "y_blob = torch.from_numpy(y_blob).type(torch.LongTensor)\n",
    "print(X_blob[:5], y_blob[:5])\n",
    "\n",
    "# 3. Split into train and test sets\n",
    "X_blob_train, X_blob_test, y_blob_train, y_blob_test = train_test_split(X_blob,\n",
    "    y_blob,\n",
    "    test_size=0.3,\n",
    "    random_state=RANDOM_SEED\n",
    ")\n",
    "\n",
    "# 4. Plot data\n",
    "plt.figure(figsize=(10, 7))\n",
    "plt.scatter(X_blob[:, 0], X_blob[:, 1], c=y_blob, cmap=plt.cm.RdYlBu);"
   ]
  },
  {
   "cell_type": "markdown",
   "id": "flying-minutes",
   "metadata": {},
   "source": [
    "## Build Model"
   ]
  },
  {
   "cell_type": "code",
   "execution_count": 20,
   "id": "little-parade",
   "metadata": {},
   "outputs": [],
   "source": [
    "class BlobsModel(torch.nn.Module):\n",
    "    \n",
    "    def __init__(self):\n",
    "        super().__init__()\n",
    "        \n",
    "        self.layer1 = torch.nn.Linear(in_features=NUM_FEATURES,out_features=20)\n",
    "        # Add Relu layer for NonLinearity \n",
    "        # ReLu : max(0,input)\n",
    "        \n",
    "        self.relu1 = torch.nn.ReLU()\n",
    "        self.layer2 = torch.nn.Linear(in_features=20,out_features=10)\n",
    "        \n",
    "        self.relu2= torch.nn.ReLU()\n",
    "        self.layer3 = torch.nn.Linear(in_features=10,out_features=4)\n",
    "        \n",
    "    def forward(self,X):\n",
    "        l1 = self.layer1(X)\n",
    "        r1 = self.relu1(l1)\n",
    "        l2 = self.layer2(r1)\n",
    "        r2 = self.relu2(l2)\n",
    "        l3 = self.layer3(r2)\n",
    "        \n",
    "        return l3\n",
    "        \n",
    "        \n",
    "        "
   ]
  },
  {
   "cell_type": "code",
   "execution_count": 21,
   "id": "municipal-madrid",
   "metadata": {},
   "outputs": [
    {
     "data": {
      "text/plain": [
       "BlobsModel(\n",
       "  (layer1): Linear(in_features=2, out_features=20, bias=True)\n",
       "  (relu1): ReLU()\n",
       "  (layer2): Linear(in_features=20, out_features=10, bias=True)\n",
       "  (relu2): ReLU()\n",
       "  (layer3): Linear(in_features=10, out_features=4, bias=True)\n",
       ")"
      ]
     },
     "execution_count": 21,
     "metadata": {},
     "output_type": "execute_result"
    }
   ],
   "source": [
    "model_1 = BlobsModel()\n",
    "model_1"
   ]
  },
  {
   "cell_type": "code",
   "execution_count": 22,
   "id": "perceived-trailer",
   "metadata": {},
   "outputs": [],
   "source": [
    "# Create loss and optimizer\n",
    "loss_fn = torch.nn.CrossEntropyLoss()\n",
    "optimizer = torch.optim.SGD(model_1.parameters(), \n",
    "                            lr=00.1)"
   ]
  },
  {
   "cell_type": "code",
   "execution_count": 23,
   "id": "silent-night",
   "metadata": {},
   "outputs": [
    {
     "data": {
      "text/plain": [
       "torch.Size([700, 2])"
      ]
     },
     "execution_count": 23,
     "metadata": {},
     "output_type": "execute_result"
    }
   ],
   "source": [
    "X_blob_train.shape"
   ]
  },
  {
   "cell_type": "code",
   "execution_count": 24,
   "id": "chief-socket",
   "metadata": {},
   "outputs": [
    {
     "data": {
      "text/plain": [
       "torch.Size([700])"
      ]
     },
     "execution_count": 24,
     "metadata": {},
     "output_type": "execute_result"
    }
   ],
   "source": [
    "y_pred.shape"
   ]
  },
  {
   "cell_type": "markdown",
   "id": "responsible-johnston",
   "metadata": {},
   "source": [
    "# Train Model"
   ]
  },
  {
   "cell_type": "code",
   "execution_count": 25,
   "id": "unauthorized-assumption",
   "metadata": {},
   "outputs": [
    {
     "name": "stdout",
     "output_type": "stream",
     "text": [
      "Epoch: 0 | Loss: 1.44597, Accuracy: 24.71% | Test loss: 1.00163, Test acc: 52.67%\n",
      "Epoch: 50 | Loss: 0.04683, Accuracy: 99.00% | Test loss: 0.03394, Test acc: 99.33%\n",
      "Epoch: 100 | Loss: 0.03399, Accuracy: 99.14% | Test loss: 0.02187, Test acc: 99.33%\n",
      "Epoch: 150 | Loss: 0.03053, Accuracy: 99.14% | Test loss: 0.01846, Test acc: 99.33%\n",
      "Epoch: 200 | Loss: 0.02892, Accuracy: 99.14% | Test loss: 0.01679, Test acc: 99.33%\n",
      "Epoch: 250 | Loss: 0.02797, Accuracy: 99.14% | Test loss: 0.01579, Test acc: 99.33%\n",
      "Epoch: 300 | Loss: 0.02729, Accuracy: 99.14% | Test loss: 0.01511, Test acc: 99.33%\n",
      "Epoch: 350 | Loss: 0.02677, Accuracy: 99.14% | Test loss: 0.01462, Test acc: 99.33%\n",
      "Epoch: 400 | Loss: 0.02633, Accuracy: 99.14% | Test loss: 0.01424, Test acc: 99.33%\n",
      "Epoch: 450 | Loss: 0.02596, Accuracy: 99.14% | Test loss: 0.01393, Test acc: 99.33%\n"
     ]
    }
   ],
   "source": [
    "# Set the number of epochs\n",
    "epochs = 500\n",
    "epoch_count = []\n",
    "testing_acc = []\n",
    "training_acc = []\n",
    "\n",
    "testing_loss = []\n",
    "training_loss = []\n",
    "\n",
    "# Build training and evaluation loop\n",
    "for epoch in range(epochs):\n",
    "    ### Training\n",
    "    model_1.train()\n",
    "\n",
    "    # 1. Forward pass (model outputs raw logits)\n",
    "    y_logits = model_1(X_blob_train).squeeze() # squeeze to remove extra `1` dimensions, this won't work unless model and data are on same device \n",
    "    \n",
    "    # here we use Softmax function for multi class classification\n",
    "\n",
    "    y_pred = torch.softmax(y_logits, dim=1).argmax(dim=1)  # turn logits -> pred probs -> pred labls\n",
    "  \n",
    "    # 2. Calculate loss/accuracy\n",
    "    loss = loss_fn(y_logits, # Using nn.BCEWithLogitsLoss works with raw logits\n",
    "                   y_blob_train) \n",
    "    \n",
    "    \n",
    "    \n",
    "    acc = accuracy_fn(y_true=y_blob_train, \n",
    "                      y_pred=y_pred) \n",
    "    \n",
    "    \n",
    "\n",
    "    # 3. Optimizer zero grad\n",
    "    optimizer.zero_grad()\n",
    "\n",
    "    # 4. Loss backwards\n",
    "    loss.backward()\n",
    "\n",
    "    # 5. Optimizer step\n",
    "    optimizer.step()\n",
    "\n",
    "    ### Testing\n",
    "    model_0.eval()\n",
    "    with torch.no_grad():\n",
    "        # 1. Forward pass\n",
    "        test_logits = model_1(X_blob_test).squeeze() \n",
    "        test_pred = torch.softmax(test_logits, dim=1).argmax(dim=1)\n",
    "     \n",
    "       # 2. Caculate loss/accuracy\n",
    "        test_loss = loss_fn(test_logits,\n",
    "                            y_blob_test)\n",
    "        \n",
    "       \n",
    "        \n",
    "        test_acc = accuracy_fn(y_true=y_blob_test,\n",
    "                               y_pred=test_pred)\n",
    "       \n",
    "        \n",
    "        \n",
    "    # Print out what's happening every 50 epochs\n",
    "    if epoch % 50 == 0:\n",
    "        training_acc.append(acc)\n",
    "        testing_acc.append(test_acc)\n",
    "        \n",
    "        training_loss.append(loss)\n",
    "        testing_loss.append(test_loss)\n",
    "        \n",
    "        epoch_count.append(epoch)\n",
    "        \n",
    "        print(f\"Epoch: {epoch} | Loss: {loss:.5f}, Accuracy: {acc:.2f}% | Test loss: {test_loss:.5f}, Test acc: {test_acc:.2f}%\")"
   ]
  },
  {
   "cell_type": "code",
   "execution_count": 26,
   "id": "thousand-richards",
   "metadata": {},
   "outputs": [
    {
     "data": {
      "image/png": "[encoded data removed]",
      "text/plain": [
       "<Figure size 432x288 with 1 Axes>"
      ]
     },
     "metadata": {
      "needs_background": "light"
     },
     "output_type": "display_data"
    }
   ],
   "source": [
    "plt.plot(epoch_count,training_acc,label='train_accuracy')\n",
    "plt.plot(epoch_count,testing_acc,label='test_accuracy')\n",
    "plt.ylabel('Accuracy')\n",
    "plt.xlabel('Epochs')\n",
    "plt.legend()\n",
    "plt.show()"
   ]
  },
  {
   "cell_type": "code",
   "execution_count": 27,
   "id": "forced-azerbaijan",
   "metadata": {},
   "outputs": [
    {
     "data": {
      "image/png": "[encoded data removed]",
      "text/plain": [
       "<Figure size 432x288 with 1 Axes>"
      ]
     },
     "metadata": {
      "needs_background": "light"
     },
     "output_type": "display_data"
    }
   ],
   "source": [
    "plt.plot(epoch_count,training_loss,label='train_loss')\n",
    "plt.plot(epoch_count,testing_loss,label='test_loss')\n",
    "plt.ylabel('Loss')\n",
    "plt.xlabel('Epochs')\n",
    "plt.legend()\n",
    "plt.show()"
   ]
  },
  {
   "cell_type": "markdown",
   "id": "metric-actress",
   "metadata": {},
   "source": [
    "# The End"
   ]
  }
 ],
 "metadata": {
  "kernelspec": {
   "display_name": "Python 3",
   "language": "python",
   "name": "python3"
  },
  "language_info": {
   "codemirror_mode": {
    "name": "ipython",
    "version": 3
   },
   "file_extension": ".py",
   "mimetype": "text/x-python",
   "name": "python",
   "nbconvert_exporter": "python",
   "pygments_lexer": "ipython3",
   "version": "3.8.3"
  }
 },
 "nbformat": 4,
 "nbformat_minor": 5
}
