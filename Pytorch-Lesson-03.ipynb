{
 "cells": [
  {
   "cell_type": "markdown",
   "id": "entitled-diagram",
   "metadata": {},
   "source": [
    "# Classification\n",
    "\n",
    "A classification problem in machine learning is one in which a class label is anticipated for a specific example of input data\n",
    "\n",
    "### Types of Classification\n",
    "\n",
    "#### Binary classification:\n",
    "\n",
    "Target can be one of two options, e.g. yes or no\n",
    "\n",
    "#### Multi-class classification:\n",
    "\n",
    "Target can be one of more than two options\n",
    "\n",
    "#### Multi-label classification:\n",
    "\n",
    "Target can be assigned more than one option (Like a movie falll into different genre)"
   ]
  },
  {
   "cell_type": "code",
   "execution_count": null,
   "id": "surrounded-sierra",
   "metadata": {},
   "outputs": [],
   "source": [
    "0. Architecture of a classification neural network\n",
    "\n",
    "1. Getting binary classification data ready\n",
    "\n",
    "2. Building a PyTorch classification model\n",
    "\n",
    "3. Fitting the model to data (training)\n",
    "\n",
    "4. Making predictions and evaluating a model (inference)\n",
    "\n",
    "5. Improving a model (from a model perspective)\n",
    "\n",
    "6. Non-linearity\n",
    "\n",
    "7. Replicating non-linear functions\n",
    "\n",
    "8. Putting it all together with multi-class classification"
   ]
  },
  {
   "cell_type": "markdown",
   "id": "motivated-throw",
   "metadata": {},
   "source": [
    "# 1) Load Dataset"
   ]
  },
  {
   "cell_type": "code",
   "execution_count": 8,
   "id": "filled-surgeon",
   "metadata": {},
   "outputs": [],
   "source": [
    "# https://scikit-learn.org/stable/modules/generated/sklearn.datasets.make_moons.html\n",
    "# you can visit the above site for datasets\n",
    "\n",
    "from sklearn.datasets import make_moons"
   ]
  },
  {
   "cell_type": "code",
   "execution_count": 2,
   "id": "soviet-calgary",
   "metadata": {},
   "outputs": [],
   "source": [
    "x,y = make_moons(1000)"
   ]
  },
  {
   "cell_type": "code",
   "execution_count": 3,
   "id": "emotional-target",
   "metadata": {},
   "outputs": [
    {
     "data": {
      "text/plain": [
       "(1000, 2)"
      ]
     },
     "execution_count": 3,
     "metadata": {},
     "output_type": "execute_result"
    }
   ],
   "source": [
    "x.shape"
   ]
  },
  {
   "cell_type": "code",
   "execution_count": 7,
   "id": "encouraging-paintball",
   "metadata": {},
   "outputs": [
    {
     "data": {
      "text/plain": [
       "array([[ 1.19701957, -0.48039956],\n",
       "       [ 1.64573014, -0.26356571],\n",
       "       [ 0.93629806,  0.35120641],\n",
       "       [ 0.40078488,  0.91617219],\n",
       "       [ 1.42942164, -0.40310412],\n",
       "       [-0.94064596,  0.33938943],\n",
       "       [ 0.29461193,  0.95561698],\n",
       "       [ 1.99042322,  0.36193534],\n",
       "       [ 0.06150939,  0.15469524],\n",
       "       [ 0.70538807, -0.45561698]])"
      ]
     },
     "execution_count": 7,
     "metadata": {},
     "output_type": "execute_result"
    }
   ],
   "source": [
    "x[:10]"
   ]
  },
  {
   "cell_type": "code",
   "execution_count": 6,
   "id": "clean-suffering",
   "metadata": {},
   "outputs": [
    {
     "data": {
      "text/plain": [
       "array([1, 1, 0, 0, 1, 0, 0, 1, 1, 1], dtype=int64)"
      ]
     },
     "execution_count": 6,
     "metadata": {},
     "output_type": "execute_result"
    }
   ],
   "source": [
    "y[:10]"
   ]
  },
  {
   "cell_type": "code",
   "execution_count": 9,
   "id": "racial-biodiversity",
   "metadata": {},
   "outputs": [
    {
     "data": {
      "text/html": [
       "<div>\n",
       "<style scoped>\n",
       "    .dataframe tbody tr th:only-of-type {\n",
       "        vertical-align: middle;\n",
       "    }\n",
       "\n",
       "    .dataframe tbody tr th {\n",
       "        vertical-align: top;\n",
       "    }\n",
       "\n",
       "    .dataframe thead th {\n",
       "        text-align: right;\n",
       "    }\n",
       "</style>\n",
       "<table border=\"1\" class=\"dataframe\">\n",
       "  <thead>\n",
       "    <tr style=\"text-align: right;\">\n",
       "      <th></th>\n",
       "      <th>X1</th>\n",
       "      <th>X2</th>\n",
       "      <th>label</th>\n",
       "    </tr>\n",
       "  </thead>\n",
       "  <tbody>\n",
       "    <tr>\n",
       "      <th>0</th>\n",
       "      <td>1.197020</td>\n",
       "      <td>-0.480400</td>\n",
       "      <td>1</td>\n",
       "    </tr>\n",
       "    <tr>\n",
       "      <th>1</th>\n",
       "      <td>1.645730</td>\n",
       "      <td>-0.263566</td>\n",
       "      <td>1</td>\n",
       "    </tr>\n",
       "    <tr>\n",
       "      <th>2</th>\n",
       "      <td>0.936298</td>\n",
       "      <td>0.351206</td>\n",
       "      <td>0</td>\n",
       "    </tr>\n",
       "    <tr>\n",
       "      <th>3</th>\n",
       "      <td>0.400785</td>\n",
       "      <td>0.916172</td>\n",
       "      <td>0</td>\n",
       "    </tr>\n",
       "    <tr>\n",
       "      <th>4</th>\n",
       "      <td>1.429422</td>\n",
       "      <td>-0.403104</td>\n",
       "      <td>1</td>\n",
       "    </tr>\n",
       "  </tbody>\n",
       "</table>\n",
       "</div>"
      ],
      "text/plain": [
       "         X1        X2  label\n",
       "0  1.197020 -0.480400      1\n",
       "1  1.645730 -0.263566      1\n",
       "2  0.936298  0.351206      0\n",
       "3  0.400785  0.916172      0\n",
       "4  1.429422 -0.403104      1"
      ]
     },
     "execution_count": 9,
     "metadata": {},
     "output_type": "execute_result"
    }
   ],
   "source": [
    "import pandas as pd\n",
    "moons = pd.DataFrame({\"X1\": x[:, 0],\n",
    "    \"X2\": x[:, 1],\n",
    "    \"label\": y\n",
    "})\n",
    "\n",
    "moons.head()"
   ]
  },
  {
   "cell_type": "code",
   "execution_count": 11,
   "id": "unusual-table",
   "metadata": {},
   "outputs": [
    {
     "data": {
      "text/plain": [
       "0    500\n",
       "1    500\n",
       "Name: label, dtype: int64"
      ]
     },
     "execution_count": 11,
     "metadata": {},
     "output_type": "execute_result"
    }
   ],
   "source": [
    "# lets check the label count\n",
    "\n",
    "moons.label.value_counts()"
   ]
  },
  {
   "cell_type": "code",
   "execution_count": 12,
   "id": "removed-cement",
   "metadata": {},
   "outputs": [
    {
     "data": {
      "image/png": "[encoded data removed]",
      "text/plain": [
       "<Figure size 432x288 with 1 Axes>"
      ]
     },
     "metadata": {
      "needs_background": "light"
     },
     "output_type": "display_data"
    }
   ],
   "source": [
    "# Visualize with a plot\n",
    "import matplotlib.pyplot as plt\n",
    "plt.scatter(x=x[:, 0], \n",
    "            y=x[:, 1], \n",
    "            c=y, \n",
    "            cmap=plt.cm.RdYlBu);"
   ]
  },
  {
   "cell_type": "markdown",
   "id": "bridal-collection",
   "metadata": {},
   "source": [
    "#### Convert data into tensors"
   ]
  },
  {
   "cell_type": "code",
   "execution_count": 13,
   "id": "celtic-system",
   "metadata": {},
   "outputs": [
    {
     "data": {
      "text/plain": [
       "(tensor([[ 1.1970, -0.4804],\n",
       "         [ 1.6457, -0.2636],\n",
       "         [ 0.9363,  0.3512],\n",
       "         [ 0.4008,  0.9162],\n",
       "         [ 1.4294, -0.4031]]),\n",
       " tensor([1., 1., 0., 0., 1.]))"
      ]
     },
     "execution_count": 13,
     "metadata": {},
     "output_type": "execute_result"
    }
   ],
   "source": [
    "import torch\n",
    "\n",
    "x= torch.from_numpy(x).type(torch.float)\n",
    "y = torch.from_numpy(y).type(torch.float)\n",
    "\n",
    "x[:5],y[:5]"
   ]
  },
  {
   "cell_type": "code",
   "execution_count": 49,
   "id": "ignored-minneapolis",
   "metadata": {},
   "outputs": [
    {
     "data": {
      "text/plain": [
       "torch.Size([1000, 2])"
      ]
     },
     "execution_count": 49,
     "metadata": {},
     "output_type": "execute_result"
    }
   ],
   "source": [
    "x.shape"
   ]
  },
  {
   "cell_type": "code",
   "execution_count": 14,
   "id": "transsexual-revision",
   "metadata": {},
   "outputs": [
    {
     "data": {
      "text/plain": [
       "(700, 300, 700, 300)"
      ]
     },
     "execution_count": 14,
     "metadata": {},
     "output_type": "execute_result"
    }
   ],
   "source": [
    "\n",
    "# Split data into train and test sets\n",
    "from sklearn.model_selection import train_test_split\n",
    "\n",
    "x_train, x_test, y_train, y_test = train_test_split(x, \n",
    "                                                    y, \n",
    "                                                    test_size=0.3, # 30% test, 70% train\n",
    "                                                    random_state=42) # make the random split reproducible\n",
    "\n",
    "len(x_train), len(x_test), len(y_train), len(y_test)"
   ]
  },
  {
   "cell_type": "markdown",
   "id": "varied-disney",
   "metadata": {},
   "source": [
    "# 2) Build the Model\n",
    "\n"
   ]
  },
  {
   "cell_type": "code",
   "execution_count": 32,
   "id": "extended-evans",
   "metadata": {},
   "outputs": [],
   "source": [
    "class MoonClassifier(torch.nn.Module):\n",
    "    \n",
    "    def __init__(self):\n",
    "        super().__init__()\n",
    "        \n",
    "        # Define architecture\n",
    "        \n",
    "        self.layer1 = torch.nn.Linear(in_features=2,out_features=10)\n",
    "        self.layer2 = torch.nn.Linear(in_features=10,out_features=5)\n",
    "        self.layer3 = torch.nn.Linear(in_features=5,out_features=1)\n",
    "        \n",
    "    # Define forward method\n",
    "    \n",
    "    def forward(self,data):\n",
    "        l1_out = self.layer1(data)\n",
    "        l2_out = self.layer2(l1_out)\n",
    "        l3_out = self.layer3(l2_out)\n",
    "        \n",
    "        return l3_out\n",
    "        "
   ]
  },
  {
   "cell_type": "code",
   "execution_count": 33,
   "id": "decimal-rapid",
   "metadata": {},
   "outputs": [
    {
     "data": {
      "text/plain": [
       "MoonClassifier(\n",
       "  (layer1): Linear(in_features=2, out_features=10, bias=True)\n",
       "  (layer2): Linear(in_features=10, out_features=5, bias=True)\n",
       "  (layer3): Linear(in_features=5, out_features=1, bias=True)\n",
       ")"
      ]
     },
     "execution_count": 33,
     "metadata": {},
     "output_type": "execute_result"
    }
   ],
   "source": [
    "model_0 = MoonClassifier()\n",
    "model_0"
   ]
  },
  {
   "cell_type": "markdown",
   "id": "dental-diploma",
   "metadata": {},
   "source": [
    "#### Lets discuss architecture\n",
    "\n",
    "As we have 2 inputs for our network we define in_features of layer1 as 2 and its output neuron are 10.\n",
    "\n",
    "In second layer the previous 10 neuron output pass through the second layer and\n",
    "its output neurions are 5.\n",
    "\n",
    "In 3rd layer the input are 5 and the output is 1 neuron  becuase we are doing binary classification here."
   ]
  },
  {
   "cell_type": "markdown",
   "id": "fundamental-colorado",
   "metadata": {},
   "source": [
    "### Set Loss function and Optimizer\n",
    "\n",
    "For binary classification we use sigmoid function and Binary crossentropy loss"
   ]
  },
  {
   "cell_type": "code",
   "execution_count": 34,
   "id": "permanent-pickup",
   "metadata": {},
   "outputs": [],
   "source": [
    "loss_fn = torch.nn.BCEWithLogitsLoss() # BCEWithLogitsLoss - BinaryCrossEntropy\n",
    "\n",
    "# Create an optimizer\n",
    "optimizer = torch.optim.SGD(params=model_0.parameters(), \n",
    "                            lr=00.1)"
   ]
  },
  {
   "cell_type": "code",
   "execution_count": 35,
   "id": "peaceful-raleigh",
   "metadata": {},
   "outputs": [],
   "source": [
    "# Calculate accuracy (a classification metric)\n",
    "def accuracy_fn(y_true, y_pred):\n",
    "    correct = torch.eq(y_true, y_pred).sum().item() \n",
    "    acc = (correct / len(y_pred)) * 100 \n",
    "    return acc"
   ]
  },
  {
   "cell_type": "markdown",
   "id": "spatial-flush",
   "metadata": {},
   "source": [
    "# 3) Train Model\n",
    "\n",
    "Model outputs 0 and 1 but wait the sigmoid function give a continous value  between 0-1. On backend what it actually does is that, \n",
    "\n",
    "if y_pred >= 0.5, y=1 (class 1)\n",
    "if y_pred < 0.5, y=0 (class 0)"
   ]
  },
  {
   "cell_type": "code",
   "execution_count": 36,
   "id": "biblical-limit",
   "metadata": {},
   "outputs": [
    {
     "name": "stdout",
     "output_type": "stream",
     "text": [
      "Epoch: 0 | Loss: 0.71977, Accuracy: 49.43% | Test loss: 0.70923, Test acc: 51.33%\n",
      "Epoch: 50 | Loss: 0.32565, Accuracy: 85.29% | Test loss: 0.34449, Test acc: 82.67%\n",
      "Epoch: 100 | Loss: 0.25439, Accuracy: 87.43% | Test loss: 0.27662, Test acc: 84.67%\n",
      "Epoch: 150 | Loss: 0.23901, Accuracy: 88.71% | Test loss: 0.25611, Test acc: 87.00%\n",
      "Epoch: 200 | Loss: 0.23519, Accuracy: 89.14% | Test loss: 0.24933, Test acc: 87.67%\n",
      "Epoch: 250 | Loss: 0.23437, Accuracy: 89.43% | Test loss: 0.24719, Test acc: 87.67%\n",
      "Epoch: 300 | Loss: 0.23419, Accuracy: 89.43% | Test loss: 0.24644, Test acc: 87.67%\n",
      "Epoch: 350 | Loss: 0.23416, Accuracy: 89.43% | Test loss: 0.24614, Test acc: 88.00%\n",
      "Epoch: 400 | Loss: 0.23415, Accuracy: 89.43% | Test loss: 0.24601, Test acc: 88.00%\n",
      "Epoch: 450 | Loss: 0.23415, Accuracy: 89.43% | Test loss: 0.24596, Test acc: 88.00%\n"
     ]
    }
   ],
   "source": [
    "# Set the number of epochs\n",
    "epochs = 500\n",
    "epoch_count = []\n",
    "testing_acc = []\n",
    "training_acc = []\n",
    "\n",
    "testing_loss = []\n",
    "training_loss = []\n",
    "\n",
    "# Build training and evaluation loop\n",
    "for epoch in range(epochs):\n",
    "    ### Training\n",
    "    model_0.train()\n",
    "\n",
    "    # 1. Forward pass (model outputs raw logits)\n",
    "    y_logits = model_0(x_train).squeeze() # squeeze to remove extra `1` dimensions, this won't work unless model and data are on same device \n",
    "    y_pred = torch.round(torch.sigmoid(y_logits)) # turn logits -> pred probs -> pred labls\n",
    "  \n",
    "    # 2. Calculate loss/accuracy\n",
    "    loss = loss_fn(y_logits, # Using nn.BCEWithLogitsLoss works with raw logits\n",
    "                   y_train) \n",
    "    \n",
    "    \n",
    "    \n",
    "    acc = accuracy_fn(y_true=y_train, \n",
    "                      y_pred=y_pred) \n",
    "    \n",
    "    \n",
    "\n",
    "    # 3. Optimizer zero grad\n",
    "    optimizer.zero_grad()\n",
    "\n",
    "    # 4. Loss backwards\n",
    "    loss.backward()\n",
    "\n",
    "    # 5. Optimizer step\n",
    "    optimizer.step()\n",
    "\n",
    "    ### Testing\n",
    "    model_0.eval()\n",
    "    with torch.no_grad():\n",
    "        # 1. Forward pass\n",
    "        test_logits = model_0(x_test).squeeze() \n",
    "        test_pred = torch.round(torch.sigmoid(test_logits))\n",
    "     \n",
    "       # 2. Caculate loss/accuracy\n",
    "        test_loss = loss_fn(test_logits,\n",
    "                            y_test)\n",
    "        \n",
    "       \n",
    "        \n",
    "        test_acc = accuracy_fn(y_true=y_test,\n",
    "                               y_pred=test_pred)\n",
    "       \n",
    "        \n",
    "        \n",
    "    # Print out what's happening every 10 epochs\n",
    "    if epoch % 50 == 0:\n",
    "        training_acc.append(acc)\n",
    "        testing_acc.append(test_acc)\n",
    "        \n",
    "        training_loss.append(loss)\n",
    "        testing_loss.append(test_loss)\n",
    "        \n",
    "        epoch_count.append(epoch)\n",
    "        \n",
    "        print(f\"Epoch: {epoch} | Loss: {loss:.5f}, Accuracy: {acc:.2f}% | Test loss: {test_loss:.5f}, Test acc: {test_acc:.2f}%\")"
   ]
  },
  {
   "cell_type": "code",
   "execution_count": 38,
   "id": "civil-campus",
   "metadata": {},
   "outputs": [
    {
     "data": {
      "image/png": "[encoded data removed]",
      "text/plain": [
       "<Figure size 432x288 with 1 Axes>"
      ]
     },
     "metadata": {
      "needs_background": "light"
     },
     "output_type": "display_data"
    }
   ],
   "source": [
    "plt.plot(epoch_count,training_acc,label='train_accuracy')\n",
    "plt.plot(epoch_count,testing_acc,label='test_accuracy')\n",
    "plt.ylabel('Accuracy')\n",
    "plt.xlabel('Epochs')\n",
    "plt.legend()\n",
    "plt.show()"
   ]
  },
  {
   "cell_type": "code",
   "execution_count": 39,
   "id": "instrumental-scheduling",
   "metadata": {},
   "outputs": [
    {
     "data": {
      "image/png": "[encoded data removed]",
      "text/plain": [
       "<Figure size 432x288 with 1 Axes>"
      ]
     },
     "metadata": {
      "needs_background": "light"
     },
     "output_type": "display_data"
    }
   ],
   "source": [
    "plt.plot(epoch_count,training_loss,label='train_loss')\n",
    "plt.plot(epoch_count,testing_loss,label='test_loss')\n",
    "plt.ylabel('Loss')\n",
    "plt.xlabel('Epochs')\n",
    "plt.legend()\n",
    "plt.show()"
   ]
  },
  {
   "cell_type": "markdown",
   "id": "seven-clark",
   "metadata": {},
   "source": [
    "#### We can also increase the number of layers, epochsm activation functions and other hyperparameter to increase its accuracy."
   ]
  },
  {
   "cell_type": "markdown",
   "id": "temporal-prior",
   "metadata": {},
   "source": [
    "# Multi Class Classification"
   ]
  },
  {
   "cell_type": "markdown",
   "id": "furnished-business",
   "metadata": {},
   "source": [
    "## Load Dataset"
   ]
  },
  {
   "cell_type": "code",
   "execution_count": 41,
   "id": "decimal-wisconsin",
   "metadata": {},
   "outputs": [
    {
     "name": "stdout",
     "output_type": "stream",
     "text": [
      "tensor([[-8.4134,  6.9352],\n",
      "        [-5.7665, -6.4312],\n",
      "        [-6.0421, -6.7661],\n",
      "        [ 3.9508,  0.6984],\n",
      "        [ 4.2505, -0.2815]]) tensor([3, 2, 2, 1, 1])\n"
     ]
    },
    {
     "data": {
      "image/png": "[encoded data removed]",
      "text/plain": [
       "<Figure size 720x504 with 1 Axes>"
      ]
     },
     "metadata": {
      "needs_background": "light"
     },
     "output_type": "display_data"
    }
   ],
   "source": [
    "import torch\n",
    "import matplotlib.pyplot as plt\n",
    "from sklearn.datasets import make_blobs\n",
    "from sklearn.model_selection import train_test_split\n",
    "\n",
    "# Set the hyperparameters for data creation\n",
    "NUM_CLASSES = 4\n",
    "NUM_FEATURES = 2\n",
    "RANDOM_SEED = 42\n",
    "\n",
    "# 1. Create multi-class data\n",
    "X_blob, y_blob = make_blobs(n_samples=1000,\n",
    "    n_features=NUM_FEATURES, # X features\n",
    "    centers=NUM_CLASSES, # y labels \n",
    "    cluster_std=1.5, # give the clusters a little shake up (try changing this to 1.0, the default)\n",
    "    random_state=RANDOM_SEED\n",
    ")\n",
    "\n",
    "# 2. Convert data into tensors\n",
    "X_blob = torch.from_numpy(X_blob).type(torch.float)\n",
    "y_blob = torch.from_numpy(y_blob).type(torch.LongTensor)\n",
    "print(X_blob[:5], y_blob[:5])\n",
    "\n",
    "# 3. Split into train and test sets\n",
    "X_blob_train, X_blob_test, y_blob_train, y_blob_test = train_test_split(X_blob,\n",
    "    y_blob,\n",
    "    test_size=0.3,\n",
    "    random_state=RANDOM_SEED\n",
    ")\n",
    "\n",
    "# 4. Plot data\n",
    "plt.figure(figsize=(10, 7))\n",
    "plt.scatter(X_blob[:, 0], X_blob[:, 1], c=y_blob, cmap=plt.cm.RdYlBu);"
   ]
  },
  {
   "cell_type": "markdown",
   "id": "addressed-schedule",
   "metadata": {},
   "source": [
    "## Build Model"
   ]
  },
  {
   "cell_type": "code",
   "execution_count": 42,
   "id": "verified-layout",
   "metadata": {},
   "outputs": [],
   "source": [
    "class BlobsModel(torch.nn.Module):\n",
    "    \n",
    "    def __init__(self):\n",
    "        super().__init__()\n",
    "        \n",
    "        self.layer1 = torch.nn.Linear(in_features=NUM_FEATURES,out_features=20)\n",
    "        # Add Relu layer for NonLinearity \n",
    "        # ReLu : max(0,input)\n",
    "        \n",
    "        self.relu1 = torch.nn.ReLU()\n",
    "        self.layer2 = torch.nn.Linear(in_features=20,out_features=10)\n",
    "        \n",
    "        self.relu2= torch.nn.ReLU()\n",
    "        self.layer3 = torch.nn.Linear(in_features=10,out_features=4)\n",
    "        \n",
    "    def forward(self,X):\n",
    "        l1 = self.layer1(X)\n",
    "        r1 = self.relu1(l1)\n",
    "        l2 = self.layer2(r1)\n",
    "        r2 = self.relu2(l2)\n",
    "        l3 = self.layer3(r2)\n",
    "        \n",
    "        return l3\n",
    "        \n",
    "        \n",
    "        "
   ]
  },
  {
   "cell_type": "code",
   "execution_count": 43,
   "id": "acquired-unknown",
   "metadata": {},
   "outputs": [
    {
     "data": {
      "text/plain": [
       "BlobsModel(\n",
       "  (layer1): Linear(in_features=2, out_features=20, bias=True)\n",
       "  (relu1): ReLU()\n",
       "  (layer2): Linear(in_features=20, out_features=10, bias=True)\n",
       "  (relu2): ReLU()\n",
       "  (layer3): Linear(in_features=10, out_features=4, bias=True)\n",
       ")"
      ]
     },
     "execution_count": 43,
     "metadata": {},
     "output_type": "execute_result"
    }
   ],
   "source": [
    "model_1 = BlobsModel()\n",
    "model_1"
   ]
  },
  {
   "cell_type": "code",
   "execution_count": 46,
   "id": "subjective-walter",
   "metadata": {},
   "outputs": [],
   "source": [
    "# Create loss and optimizer\n",
    "loss_fn = torch.nn.CrossEntropyLoss()\n",
    "optimizer = torch.optim.SGD(model_1.parameters(), \n",
    "                            lr=00.1)"
   ]
  },
  {
   "cell_type": "code",
   "execution_count": 48,
   "id": "advance-arrival",
   "metadata": {},
   "outputs": [
    {
     "data": {
      "text/plain": [
       "torch.Size([800, 2])"
      ]
     },
     "execution_count": 48,
     "metadata": {},
     "output_type": "execute_result"
    }
   ],
   "source": [
    "X_blob_train.shape"
   ]
  },
  {
   "cell_type": "code",
   "execution_count": 50,
   "id": "racial-driving",
   "metadata": {},
   "outputs": [
    {
     "data": {
      "text/plain": [
       "torch.Size([800, 4])"
      ]
     },
     "execution_count": 50,
     "metadata": {},
     "output_type": "execute_result"
    }
   ],
   "source": [
    "y_pred.shape"
   ]
  },
  {
   "cell_type": "markdown",
   "id": "beautiful-ceiling",
   "metadata": {},
   "source": [
    "# Train Model"
   ]
  },
  {
   "cell_type": "code",
   "execution_count": 52,
   "id": "greenhouse-thumbnail",
   "metadata": {},
   "outputs": [
    {
     "name": "stdout",
     "output_type": "stream",
     "text": [
      "Epoch: 0 | Loss: 1.16064, Accuracy: 70.50% | Test loss: 0.98292, Test acc: 72.50%\n",
      "Epoch: 50 | Loss: 0.04441, Accuracy: 99.25% | Test loss: 0.03647, Test acc: 99.50%\n",
      "Epoch: 100 | Loss: 0.03100, Accuracy: 99.12% | Test loss: 0.02222, Test acc: 99.50%\n",
      "Epoch: 150 | Loss: 0.02750, Accuracy: 99.25% | Test loss: 0.01810, Test acc: 99.50%\n",
      "Epoch: 200 | Loss: 0.02596, Accuracy: 99.38% | Test loss: 0.01617, Test acc: 99.50%\n",
      "Epoch: 250 | Loss: 0.02505, Accuracy: 99.38% | Test loss: 0.01500, Test acc: 99.50%\n",
      "Epoch: 300 | Loss: 0.02431, Accuracy: 99.38% | Test loss: 0.01388, Test acc: 99.50%\n",
      "Epoch: 350 | Loss: 0.02382, Accuracy: 99.38% | Test loss: 0.01327, Test acc: 99.50%\n",
      "Epoch: 400 | Loss: 0.02341, Accuracy: 99.38% | Test loss: 0.01282, Test acc: 99.50%\n",
      "Epoch: 450 | Loss: 0.02314, Accuracy: 99.38% | Test loss: 0.01251, Test acc: 99.50%\n"
     ]
    }
   ],
   "source": [
    "# Set the number of epochs\n",
    "epochs = 500\n",
    "epoch_count = []\n",
    "testing_acc = []\n",
    "training_acc = []\n",
    "\n",
    "testing_loss = []\n",
    "training_loss = []\n",
    "\n",
    "# Build training and evaluation loop\n",
    "for epoch in range(epochs):\n",
    "    ### Training\n",
    "    model_1.train()\n",
    "\n",
    "    # 1. Forward pass (model outputs raw logits)\n",
    "    y_logits = model_1(X_blob_train).squeeze() # squeeze to remove extra `1` dimensions, this won't work unless model and data are on same device \n",
    "    \n",
    "    # here we use Softmax function for multi class classification\n",
    "\n",
    "    y_pred = torch.softmax(y_logits, dim=1).argmax(dim=1)  # turn logits -> pred probs -> pred labls\n",
    "  \n",
    "    # 2. Calculate loss/accuracy\n",
    "    loss = loss_fn(y_logits, # Using nn.BCEWithLogitsLoss works with raw logits\n",
    "                   y_blob_train) \n",
    "    \n",
    "    \n",
    "    \n",
    "    acc = accuracy_fn(y_true=y_blob_train, \n",
    "                      y_pred=y_pred) \n",
    "    \n",
    "    \n",
    "\n",
    "    # 3. Optimizer zero grad\n",
    "    optimizer.zero_grad()\n",
    "\n",
    "    # 4. Loss backwards\n",
    "    loss.backward()\n",
    "\n",
    "    # 5. Optimizer step\n",
    "    optimizer.step()\n",
    "\n",
    "    ### Testing\n",
    "    model_0.eval()\n",
    "    with torch.no_grad():\n",
    "        # 1. Forward pass\n",
    "        test_logits = model_1(X_blob_test).squeeze() \n",
    "        test_pred = torch.softmax(test_logits, dim=1).argmax(dim=1)\n",
    "     \n",
    "       # 2. Caculate loss/accuracy\n",
    "        test_loss = loss_fn(test_logits,\n",
    "                            y_blob_test)\n",
    "        \n",
    "       \n",
    "        \n",
    "        test_acc = accuracy_fn(y_true=y_blob_test,\n",
    "                               y_pred=test_pred)\n",
    "       \n",
    "        \n",
    "        \n",
    "    # Print out what's happening every 10 epochs\n",
    "    if epoch % 50 == 0:\n",
    "        training_acc.append(acc)\n",
    "        testing_acc.append(test_acc)\n",
    "        \n",
    "        training_loss.append(loss)\n",
    "        testing_loss.append(test_loss)\n",
    "        \n",
    "        epoch_count.append(epoch)\n",
    "        \n",
    "        print(f\"Epoch: {epoch} | Loss: {loss:.5f}, Accuracy: {acc:.2f}% | Test loss: {test_loss:.5f}, Test acc: {test_acc:.2f}%\")"
   ]
  },
  {
   "cell_type": "code",
   "execution_count": 55,
   "id": "bacterial-knitting",
   "metadata": {},
   "outputs": [
    {
     "data": {
      "image/png": "[encoded data removed]",
      "text/plain": [
       "<Figure size 432x288 with 1 Axes>"
      ]
     },
     "metadata": {
      "needs_background": "light"
     },
     "output_type": "display_data"
    }
   ],
   "source": [
    "plt.plot(epoch_count,training_acc,label='train_accuracy')\n",
    "plt.plot(epoch_count,testing_acc,label='test_accuracy')\n",
    "plt.ylabel('Accuracy')\n",
    "plt.xlabel('Epochs')\n",
    "plt.legend()\n",
    "plt.show()"
   ]
  },
  {
   "cell_type": "code",
   "execution_count": 54,
   "id": "russian-progress",
   "metadata": {},
   "outputs": [
    {
     "data": {
      "image/png": "[encoded data removed]",
      "text/plain": [
       "<Figure size 432x288 with 1 Axes>"
      ]
     },
     "metadata": {
      "needs_background": "light"
     },
     "output_type": "display_data"
    }
   ],
   "source": [
    "plt.plot(epoch_count,training_loss,label='train_loss')\n",
    "plt.plot(epoch_count,testing_loss,label='test_loss')\n",
    "plt.ylabel('Loss')\n",
    "plt.xlabel('Epochs')\n",
    "plt.legend()\n",
    "plt.show()"
   ]
  },
  {
   "cell_type": "markdown",
   "id": "according-priority",
   "metadata": {},
   "source": [
    "# The End"
   ]
  },
  {
   "cell_type": "code",
   "execution_count": null,
   "id": "secure-robertson",
   "metadata": {},
   "outputs": [],
   "source": []
  }
 ],
 "metadata": {
  "kernelspec": {
   "display_name": "Python 3",
   "language": "python",
   "name": "python3"
  },
  "language_info": {
   "codemirror_mode": {
    "name": "ipython",
    "version": 3
   },
   "file_extension": ".py",
   "mimetype": "text/x-python",
   "name": "python",
   "nbconvert_exporter": "python",
   "pygments_lexer": "ipython3",
   "version": "3.8.3"
  }
 },
 "nbformat": 4,
 "nbformat_minor": 5
}
