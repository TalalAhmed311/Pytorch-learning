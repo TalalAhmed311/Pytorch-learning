{
 "cells": [
  {
   "cell_type": "markdown",
   "id": "economic-conflict",
   "metadata": {},
   "source": [
    "### In this tutorial we are going to build a regression model using Pytorch\n",
    "\n",
    "#### Regression\n",
    "\n",
    "A regression is a statistical technique that relates a dependent variable to one or more independent (explanatory) variables.A regression model is able to show whether changes observed in the dependent variable are associated with changes in one or more of the explanatory variable"
   ]
  },
  {
   "cell_type": "code",
   "execution_count": 3,
   "id": "rotary-method",
   "metadata": {},
   "outputs": [],
   "source": [
    "import torch\n",
    "import matplotlib.pyplot as plt"
   ]
  },
  {
   "cell_type": "markdown",
   "id": "attended-burst",
   "metadata": {},
   "source": [
    "# 1) Data Preparation"
   ]
  },
  {
   "cell_type": "code",
   "execution_count": 4,
   "id": "joined-africa",
   "metadata": {},
   "outputs": [
    {
     "data": {
      "text/plain": [
       "(tensor([[1.0000],\n",
       "         [1.0400],\n",
       "         [1.0800],\n",
       "         [1.1200],\n",
       "         [1.1600],\n",
       "         [1.2000],\n",
       "         [1.2400],\n",
       "         [1.2800],\n",
       "         [1.3200],\n",
       "         [1.3600]]),\n",
       " tensor([[0.8000],\n",
       "         [0.8240],\n",
       "         [0.8480],\n",
       "         [0.8720],\n",
       "         [0.8960],\n",
       "         [0.9200],\n",
       "         [0.9440],\n",
       "         [0.9680],\n",
       "         [0.9920],\n",
       "         [1.0160]]))"
      ]
     },
     "execution_count": 4,
     "metadata": {},
     "output_type": "execute_result"
    }
   ],
   "source": [
    "# Lets create some data for regression\n",
    "w = 0.6 # Refers to weight or you can say slope\n",
    "b = 0.2 # Refers to bias or intercept \n",
    "\n",
    "start = 1\n",
    "end =3\n",
    "\n",
    "step = 0.04\n",
    "X = torch.arange(start,end,step).unsqueeze(dim=1)\n",
    "y = w*X + b\n",
    "\n",
    "X[:10], y[:10]"
   ]
  },
  {
   "cell_type": "code",
   "execution_count": 6,
   "id": "looking-interval",
   "metadata": {},
   "outputs": [
    {
     "data": {
      "text/plain": [
       "(torch.Size([50, 1]), torch.Size([50, 1]))"
      ]
     },
     "execution_count": 6,
     "metadata": {},
     "output_type": "execute_result"
    }
   ],
   "source": [
    "# Check shape\n",
    "X.shape, y.shape"
   ]
  },
  {
   "cell_type": "code",
   "execution_count": 7,
   "id": "dated-athens",
   "metadata": {},
   "outputs": [
    {
     "data": {
      "text/plain": [
       "35"
      ]
     },
     "execution_count": 7,
     "metadata": {},
     "output_type": "execute_result"
    }
   ],
   "source": [
    "# Split Data into training and testing set\n",
    "\n",
    "split = int(0.7*len(X))\n",
    "\n",
    "X_train, y_train = X[:split],y[:split]\n",
    "X_test, y_test = X[split:], y[split:]\n",
    "\n",
    "len(X_train)"
   ]
  },
  {
   "cell_type": "code",
   "execution_count": 16,
   "id": "swedish-summer",
   "metadata": {},
   "outputs": [],
   "source": [
    "# Create a helping function to plot line\n",
    "\n",
    "def plot_predictions(train_data=X_train, \n",
    "                     train_labels=y_train, \n",
    "                     test_data=X_test, \n",
    "                     test_labels=y_test, \n",
    "                     predictions=None):\n",
    "   \n",
    "    plt.figure(figsize=(12, 8))\n",
    "\n",
    "    # Plot training data in blue\n",
    "    plt.scatter(train_data, train_labels, c=\"b\", s=8, label=\"Training data\")\n",
    "\n",
    "    # Plot test data in green\n",
    "    plt.scatter(test_data, test_labels, c=\"g\", s=8, label=\"Testing data\")\n",
    "\n",
    "    if predictions is not None:\n",
    "        # Plot the predictions in red (predictions were made on the test data)\n",
    "        plt.scatter(test_data, predictions, c=\"r\", s=8, label=\"Predictions\")\n",
    "\n",
    "    # Show the legend\n",
    "    plt.legend(prop={\"size\": 14});"
   ]
  },
  {
   "cell_type": "code",
   "execution_count": 15,
   "id": "anticipated-phrase",
   "metadata": {},
   "outputs": [
    {
     "data": {
      "image/png": "[encoded data removed]",
      "text/plain": [
       "<Figure size 864x576 with 1 Axes>"
      ]
     },
     "metadata": {
      "needs_background": "light"
     },
     "output_type": "display_data"
    }
   ],
   "source": [
    "plot_predictions()"
   ]
  },
  {
   "cell_type": "markdown",
   "id": "automated-robinson",
   "metadata": {},
   "source": [
    "# 2) Build Model"
   ]
  },
  {
   "cell_type": "code",
   "execution_count": 24,
   "id": "blond-reconstruction",
   "metadata": {},
   "outputs": [],
   "source": [
    "class LinearRegression(torch.nn.Module):\n",
    "    def __init__(self):\n",
    "        super().__init__()\n",
    "        \n",
    "        self.weights = torch.nn.Parameter(torch.randn(1,dtype=torch.float))\n",
    "        self.bias = torch.nn.Parameter(torch.randn(1,dtype=torch.float))\n",
    "        \n",
    "    #Forward propagation function\n",
    "    \n",
    "    def forward(self,x:torch.Tensor) ->torch.Tensor:\n",
    "        return self.weights * x + self.bias"
   ]
  },
  {
   "cell_type": "markdown",
   "id": "planned-summer",
   "metadata": {},
   "source": [
    "###  PyTorch model building essentials\n",
    "\n",
    "PyTorch has four (give or take) essential modules you can use to create almost any kind of neural network.\n",
    "\n",
    "\n",
    "They are torch.nn, torch.optim, torch.utils.data.Dataset and torch.utils.data.DataLoader\n",
    "\n",
    "\n",
    "#### torch.nn: \n",
    "\n",
    "Contains all of the building blocks for computational graphs (essentially a series of computations executed in a particular way)\n",
    "\n",
    "#### torch.nn.Parameter: \n",
    "\n",
    "Stores tensors that can be used with nn.Module. If requires_grad=True gradients (used for updating model parameters via gradient descent) are calculated automatically, this is often referred to as \"autograd\".\n",
    "\n",
    "#### torch.nn.Module: \n",
    "\n",
    "The base class for all neural network modules, all the building blocks for neural networks are subclasses. If you're building a neural network in PyTorch, your models should subclass nn.Module. Requires a forward() method be implemented.\n",
    "\n",
    "#### torch.optim:\n",
    "\n",
    "Contains various optimization algorithms (these tell the model parameters stored in nn.Parameter how to best change to improve gradient descent and in turn reduce the loss).\n",
    "\n",
    "#### def forward():\n",
    "\n",
    "All nn.Module subclasses require a forward() method, this defines the computation that will take place on the data passed to the particular nn.Module (e.g. the linear regression formula above).\n"
   ]
  },
  {
   "cell_type": "markdown",
   "id": "detailed-liberty",
   "metadata": {},
   "source": [
    "### Checking the Model"
   ]
  },
  {
   "cell_type": "code",
   "execution_count": 25,
   "id": "distinct-scene",
   "metadata": {},
   "outputs": [
    {
     "data": {
      "text/plain": [
       "[Parameter containing:\n",
       " tensor([1.4559], requires_grad=True),\n",
       " Parameter containing:\n",
       " tensor([0.6530], requires_grad=True)]"
      ]
     },
     "execution_count": 25,
     "metadata": {},
     "output_type": "execute_result"
    }
   ],
   "source": [
    "model_0 = LinearRegression()\n",
    "\n",
    "list(model_0.parameters())"
   ]
  },
  {
   "cell_type": "code",
   "execution_count": 26,
   "id": "fantastic-robertson",
   "metadata": {},
   "outputs": [
    {
     "data": {
      "text/plain": [
       "OrderedDict([('weights', tensor([1.4559])), ('bias', tensor([0.6530]))])"
      ]
     },
     "execution_count": 26,
     "metadata": {},
     "output_type": "execute_result"
    }
   ],
   "source": [
    "# List names of parameters\n",
    "\n",
    "model_0.state_dict()"
   ]
  },
  {
   "cell_type": "markdown",
   "id": "marine-playlist",
   "metadata": {},
   "source": [
    "### Make prediction using torch.inference_model()\n"
   ]
  },
  {
   "cell_type": "code",
   "execution_count": 32,
   "id": "ordinary-serial",
   "metadata": {},
   "outputs": [],
   "source": [
    "with torch.no_grad(): \n",
    "    y_pred = model_0(X_test)"
   ]
  },
  {
   "cell_type": "code",
   "execution_count": 33,
   "id": "executive-catalyst",
   "metadata": {},
   "outputs": [
    {
     "data": {
      "text/plain": [
       "tensor([[4.1472],\n",
       "        [4.2054],\n",
       "        [4.2636],\n",
       "        [4.3219],\n",
       "        [4.3801],\n",
       "        [4.4383],\n",
       "        [4.4966],\n",
       "        [4.5548],\n",
       "        [4.6130],\n",
       "        [4.6713]])"
      ]
     },
     "execution_count": 33,
     "metadata": {},
     "output_type": "execute_result"
    }
   ],
   "source": [
    "y_pred[:10]"
   ]
  },
  {
   "cell_type": "code",
   "execution_count": 34,
   "id": "solved-sudan",
   "metadata": {},
   "outputs": [
    {
     "data": {
      "image/png": "[encoded data removed]",
      "text/plain": [
       "<Figure size 864x576 with 1 Axes>"
      ]
     },
     "metadata": {
      "needs_background": "light"
     },
     "output_type": "display_data"
    }
   ],
   "source": [
    "# Lets check the predictions\n",
    "\n",
    "plot_predictions(predictions=y_pred)"
   ]
  },
  {
   "cell_type": "code",
   "execution_count": 35,
   "id": "verified-mississippi",
   "metadata": {},
   "outputs": [
    {
     "data": {
      "text/plain": [
       "tensor([7.5668])"
      ]
     },
     "execution_count": 35,
     "metadata": {},
     "output_type": "execute_result"
    }
   ],
   "source": [
    "# Calculate the MSE for the model\n",
    "\n",
    "sum((y_test - y_pred)**2)/len(y_test)"
   ]
  },
  {
   "cell_type": "code",
   "execution_count": 36,
   "id": "binary-running",
   "metadata": {},
   "outputs": [
    {
     "data": {
      "text/plain": [
       "tensor([113.5027])"
      ]
     },
     "execution_count": 36,
     "metadata": {},
     "output_type": "execute_result"
    }
   ],
   "source": [
    "# SSE\n",
    "sum((y_test - y_pred)**2)"
   ]
  },
  {
   "cell_type": "markdown",
   "id": "disabled-exploration",
   "metadata": {},
   "source": [
    "# Train Model"
   ]
  },
  {
   "cell_type": "markdown",
   "id": "random-praise",
   "metadata": {},
   "source": [
    "### For building the model we have to specify a training loop\n",
    "\n",
    "### Steps of Training Loop\n",
    "\n",
    "#### 1) Forward Pass \n",
    "\n",
    "The model goes through all of the training data once, performing its forward() function calculations.\n",
    "\n",
    "#### 2) Calculate the loss\n",
    "\n",
    "The model's outputs (predictions) are compared to the ground truth and evaluated to see how wrong they are.\n",
    "\n",
    "#### 3)  Zero gradients\n",
    "\n",
    "The optimizers gradients are set to zero (they are accumulated by default) so they can be recalculated for the specific training step.\n",
    "\n",
    "#### 4) Perform backpropagation on the loss\n",
    "\n",
    "Computes the gradient of the loss with respect for every model parameter to be updated (each parameter with requires_grad=True). This is known as backpropagation, hence \"backwards\".\n",
    "\n",
    "#### 5) Update the optimizer (gradient descent)\n",
    "\n",
    "Update the parameters with requires_grad=True with respect to the loss gradients in order to improve them.\n"
   ]
  },
  {
   "cell_type": "markdown",
   "id": "august-administration",
   "metadata": {},
   "source": [
    "### Steps for Testing Model\n",
    "\n",
    "#### 1) Forward Pass \n",
    "\n",
    "The model goes through all of the training data once, performing its forward() function calculations.\n",
    "\n",
    "#### 2) Calculate the loss\n",
    "\n",
    "The model's outputs (predictions) are compared to the ground truth and evaluated to see how wrong they are.\n",
    "\n",
    "#### 3) Calculate evaluation metrics\n",
    "\n",
    "Alongisde the loss value you may want to calculate other evaluation metrics such as accuracy on the test set."
   ]
  },
  {
   "cell_type": "code",
   "execution_count": 51,
   "id": "imperial-sweet",
   "metadata": {},
   "outputs": [],
   "source": [
    "# Create Model instance\n",
    "model_0 = LinearRegression()\n",
    "\n",
    "# Create the loss function\n",
    "loss_fn = torch.nn.L1Loss() # MAE loss is same as L1Loss\n",
    "\n",
    "# Create the optimizer\n",
    "optimizer = torch.optim.SGD(params=model_0.parameters(), # parameters of target model to optimize\n",
    "                            lr=0.01)"
   ]
  },
  {
   "cell_type": "code",
   "execution_count": 56,
   "id": "circular-rugby",
   "metadata": {},
   "outputs": [
    {
     "name": "stdout",
     "output_type": "stream",
     "text": [
      "Epoch: 0 | MAE Train Loss: 0.06856981664896011 | MAE Test Loss: 0.1688982993364334 \n",
      "Epoch: 10 | MAE Train Loss: 0.06549524515867233 | MAE Test Loss: 0.15894612669944763 \n",
      "Epoch: 20 | MAE Train Loss: 0.06244484335184097 | MAE Test Loss: 0.1523219794034958 \n",
      "Epoch: 30 | MAE Train Loss: 0.059394415467977524 | MAE Test Loss: 0.14569781720638275 \n",
      "Epoch: 40 | MAE Train Loss: 0.05634397268295288 | MAE Test Loss: 0.13907399773597717 \n",
      "Epoch: 50 | MAE Train Loss: 0.05326934531331062 | MAE Test Loss: 0.12912212312221527 \n",
      "Epoch: 60 | MAE Train Loss: 0.05021890997886658 | MAE Test Loss: 0.12249818444252014 \n",
      "Epoch: 70 | MAE Train Loss: 0.04716844484210014 | MAE Test Loss: 0.11587435752153397 \n",
      "Epoch: 80 | MAE Train Loss: 0.04411647841334343 | MAE Test Loss: 0.10925041139125824 \n",
      "Epoch: 90 | MAE Train Loss: 0.041043370962142944 | MAE Test Loss: 0.09929852932691574 \n",
      "Epoch: 100 | MAE Train Loss: 0.0379929356276989 | MAE Test Loss: 0.09267466515302658 \n",
      "Epoch: 110 | MAE Train Loss: 0.034942496567964554 | MAE Test Loss: 0.08605044335126877 \n",
      "Epoch: 120 | MAE Train Loss: 0.03188788518309593 | MAE Test Loss: 0.07942597568035126 \n",
      "Epoch: 130 | MAE Train Loss: 0.028817366808652878 | MAE Test Loss: 0.06947338581085205 \n",
      "Epoch: 140 | MAE Train Loss: 0.0257668849080801 | MAE Test Loss: 0.06284880638122559 \n",
      "Epoch: 150 | MAE Train Loss: 0.02271641604602337 | MAE Test Loss: 0.05622433125972748 \n",
      "Epoch: 160 | MAE Train Loss: 0.019659293815493584 | MAE Test Loss: 0.04959975183010101 \n",
      "Epoch: 170 | MAE Train Loss: 0.01659129559993744 | MAE Test Loss: 0.03964715823531151 \n",
      "Epoch: 180 | MAE Train Loss: 0.013545529916882515 | MAE Test Loss: 0.033145371824502945 \n",
      "Epoch: 190 | MAE Train Loss: 0.010524528101086617 | MAE Test Loss: 0.023315461352467537 \n",
      "Epoch: 200 | MAE Train Loss: 0.025884242728352547 | MAE Test Loss: 0.005321478936821222 \n",
      "Epoch: 210 | MAE Train Loss: 0.025884242728352547 | MAE Test Loss: 0.005321478936821222 \n",
      "Epoch: 220 | MAE Train Loss: 0.025884242728352547 | MAE Test Loss: 0.005321478936821222 \n",
      "Epoch: 230 | MAE Train Loss: 0.025884242728352547 | MAE Test Loss: 0.005321478936821222 \n",
      "Epoch: 240 | MAE Train Loss: 0.025884242728352547 | MAE Test Loss: 0.005321478936821222 \n",
      "Epoch: 250 | MAE Train Loss: 0.025884242728352547 | MAE Test Loss: 0.005321478936821222 \n",
      "Epoch: 260 | MAE Train Loss: 0.025884242728352547 | MAE Test Loss: 0.005321478936821222 \n",
      "Epoch: 270 | MAE Train Loss: 0.025884242728352547 | MAE Test Loss: 0.005321478936821222 \n",
      "Epoch: 280 | MAE Train Loss: 0.025884242728352547 | MAE Test Loss: 0.005321478936821222 \n",
      "Epoch: 290 | MAE Train Loss: 0.025884242728352547 | MAE Test Loss: 0.005321478936821222 \n"
     ]
    }
   ],
   "source": [
    "# Set the number of epochs \n",
    "epochs = 300\n",
    "\n",
    "# Create empty loss lists to track values\n",
    "train_loss_values = []\n",
    "test_loss_values = []\n",
    "epoch_count = []\n",
    "\n",
    "for epoch in range(epochs):\n",
    "    ### Training\n",
    "\n",
    "    # Put model in training mode (this is the default state of a model)\n",
    "    model_0.train()\n",
    "\n",
    "    # 1. Forward pass on train data using the forward() method inside \n",
    "    y_pred = model_0(X_train)\n",
    "\n",
    "    # 2. Calculate the loss \n",
    "    loss = loss_fn(y_pred, y_train)\n",
    "\n",
    "    # 3. Zero grad of the optimizer\n",
    "    optimizer.zero_grad()\n",
    "\n",
    "    # 4. Loss backwards\n",
    "    loss.backward()\n",
    "\n",
    "    # 5. Progress the optimizer\n",
    "    optimizer.step()\n",
    "\n",
    "    ### Testing\n",
    "\n",
    "    # Put the model in evaluation mode\n",
    "    model_0.eval()\n",
    "\n",
    "    with torch.no_grad():\n",
    "      # 1. Forward pass on test data\n",
    "      test_pred = model_0(X_test)\n",
    "\n",
    "      # 2. Caculate loss on test data\n",
    "      test_loss = loss_fn(test_pred, y_test.type(torch.float)) # predictions come in torch.float datatype, so comparisons need to be done with tensors of the same type\n",
    "\n",
    "      # Print out what's happening\n",
    "      if epoch % 10 == 0:\n",
    "            epoch_count.append(epoch)\n",
    "            train_loss_values.append(loss.detach().numpy())\n",
    "            test_loss_values.append(test_loss.detach().numpy())\n",
    "            print(f\"Epoch: {epoch} | MAE Train Loss: {loss} | MAE Test Loss: {test_loss} \")"
   ]
  },
  {
   "cell_type": "code",
   "execution_count": 57,
   "id": "raised-meaning",
   "metadata": {},
   "outputs": [
    {
     "data": {
      "text/plain": [
       "<matplotlib.legend.Legend at 0x1e574ad4730>"
      ]
     },
     "execution_count": 57,
     "metadata": {},
     "output_type": "execute_result"
    },
    {
     "data": {
      "image/png": "[encoded data removed]",
      "text/plain": [
       "<Figure size 432x288 with 1 Axes>"
      ]
     },
     "metadata": {
      "needs_background": "light"
     },
     "output_type": "display_data"
    }
   ],
   "source": [
    "# Plot loss curves\n",
    "\n",
    "plt.plot(epoch_count, train_loss_values, label=\"Train loss\")\n",
    "plt.plot(epoch_count, test_loss_values, label=\"Test loss\")\n",
    "plt.title(\"Training and test loss curves\")\n",
    "plt.ylabel(\"Loss\")\n",
    "plt.xlabel(\"Epochs\")\n",
    "plt.legend()"
   ]
  },
  {
   "cell_type": "markdown",
   "id": "digital-garden",
   "metadata": {},
   "source": [
    "# 4) Make Predictions"
   ]
  },
  {
   "cell_type": "markdown",
   "id": "lyric-bulgarian",
   "metadata": {},
   "source": [
    "### Some important things you have to remember before predictions\n",
    "\n",
    "1) Set model into evaluation mode model.eval()\n",
    "\n",
    "2) Make a context manager\n",
    "\n",
    "3) All predictions should be made with objects on the same device (e.g. data and model on GPU only or data and model on CPU only)."
   ]
  },
  {
   "cell_type": "code",
   "execution_count": 58,
   "id": "coordinate-welsh",
   "metadata": {},
   "outputs": [
    {
     "data": {
      "text/plain": [
       "tensor([[1.5893],\n",
       "        [1.6119],\n",
       "        [1.6345],\n",
       "        [1.6572],\n",
       "        [1.6798],\n",
       "        [1.7024],\n",
       "        [1.7250],\n",
       "        [1.7477],\n",
       "        [1.7703],\n",
       "        [1.7929]])"
      ]
     },
     "execution_count": 58,
     "metadata": {},
     "output_type": "execute_result"
    }
   ],
   "source": [
    "model_0.eval()\n",
    "\n",
    "with torch.no_grad():\n",
    "    y_pred = model_0(X_test)\n",
    "\n",
    "y_pred[:10]"
   ]
  },
  {
   "cell_type": "code",
   "execution_count": 60,
   "id": "established-illustration",
   "metadata": {},
   "outputs": [
    {
     "data": {
      "image/png": "[encoded data removed]",
      "text/plain": [
       "<Figure size 864x576 with 1 Axes>"
      ]
     },
     "metadata": {
      "needs_background": "light"
     },
     "output_type": "display_data"
    }
   ],
   "source": [
    "plot_predictions(predictions=y_pred)"
   ]
  },
  {
   "cell_type": "markdown",
   "id": "ignored-kelly",
   "metadata": {},
   "source": [
    "### Now here we can see that our model immproved"
   ]
  },
  {
   "cell_type": "markdown",
   "id": "meaningful-working",
   "metadata": {},
   "source": [
    "# Build Model using torch.nn.Linear Module"
   ]
  },
  {
   "cell_type": "code",
   "execution_count": 71,
   "id": "universal-kazakhstan",
   "metadata": {},
   "outputs": [],
   "source": [
    "class LinearRegressionModel(torch.nn.Module):\n",
    "    def __init__(self):\n",
    "        super().__init__()\n",
    "        \n",
    "        self.linear_layer = torch.nn.Linear(in_features=1,out_features=1)\n",
    "        \n",
    "        \n",
    "    def forward(self, x:torch.Tensor)->torch.Tensor:\n",
    "        return self.linear_layer(x)"
   ]
  },
  {
   "cell_type": "code",
   "execution_count": 72,
   "id": "approved-adult",
   "metadata": {},
   "outputs": [],
   "source": [
    "# create model instance\n",
    "\n",
    "model_1 = LinearRegressionModel()"
   ]
  },
  {
   "cell_type": "code",
   "execution_count": 73,
   "id": "lightweight-salon",
   "metadata": {},
   "outputs": [
    {
     "data": {
      "text/plain": [
       "(LinearRegressionModel(\n",
       "   (linear_layer): Linear(in_features=1, out_features=1, bias=True)\n",
       " ),\n",
       " OrderedDict([('linear_layer.weight', tensor([[0.5561]])),\n",
       "              ('linear_layer.bias', tensor([-0.5981]))]))"
      ]
     },
     "execution_count": 73,
     "metadata": {},
     "output_type": "execute_result"
    }
   ],
   "source": [
    "model_1, model_1.state_dict()"
   ]
  },
  {
   "cell_type": "code",
   "execution_count": 74,
   "id": "chubby-senator",
   "metadata": {},
   "outputs": [
    {
     "data": {
      "text/plain": [
       "device(type='cpu')"
      ]
     },
     "execution_count": 74,
     "metadata": {},
     "output_type": "execute_result"
    }
   ],
   "source": [
    "# Check model device\n",
    "next(model_1.parameters()).device"
   ]
  },
  {
   "cell_type": "code",
   "execution_count": 75,
   "id": "super-madonna",
   "metadata": {},
   "outputs": [],
   "source": [
    "# Create loss function\n",
    "loss_fn = torch.nn.L1Loss()\n",
    "\n",
    "# Create optimizer\n",
    "optimizer = torch.optim.SGD(params=model_1.parameters(),\n",
    "                            lr=0.01)"
   ]
  },
  {
   "cell_type": "code",
   "execution_count": 78,
   "id": "competent-escape",
   "metadata": {},
   "outputs": [
    {
     "name": "stdout",
     "output_type": "stream",
     "text": [
      "Epoch: 0 | Train loss: 0.7953166961669922 | Test loss: 0.7505436539649963\n",
      "Epoch: 200 | Train loss: 0.060624606907367706 | Test loss: 0.14902406930923462\n",
      "Epoch: 400 | Train loss: 0.024430332705378532 | Test loss: 0.004088695626705885\n",
      "Epoch: 600 | Train loss: 0.024430332705378532 | Test loss: 0.004088695626705885\n",
      "Epoch: 800 | Train loss: 0.024430332705378532 | Test loss: 0.004088695626705885\n",
      "Epoch: 1000 | Train loss: 0.024430332705378532 | Test loss: 0.004088695626705885\n",
      "Epoch: 1200 | Train loss: 0.024430332705378532 | Test loss: 0.004088695626705885\n",
      "Epoch: 1400 | Train loss: 0.024430332705378532 | Test loss: 0.004088695626705885\n",
      "Epoch: 1600 | Train loss: 0.024430332705378532 | Test loss: 0.004088695626705885\n",
      "Epoch: 1800 | Train loss: 0.024430332705378532 | Test loss: 0.004088695626705885\n"
     ]
    }
   ],
   "source": [
    "epochs = 2000 \n",
    "\n",
    "\n",
    "for epoch in range(epochs):\n",
    "    ### Training\n",
    "    model_1.train() # train mode is on by default after construction\n",
    "\n",
    "    # 1. Forward pass\n",
    "    y_pred = model_1(X_train)\n",
    "\n",
    "    # 2. Calculate loss\n",
    "    loss = loss_fn(y_pred, y_train)\n",
    "\n",
    "    # 3. Zero grad optimizer\n",
    "    optimizer.zero_grad()\n",
    "\n",
    "    # 4. Loss backward\n",
    "    loss.backward()\n",
    "\n",
    "    # 5. Step the optimizer\n",
    "    optimizer.step()\n",
    "\n",
    "    ### Testing\n",
    "    model_1.eval() # put the model in evaluation mode for testing (inference)\n",
    "    # 1. Forward pass\n",
    "    with torch.no_grad():\n",
    "        test_pred = model_1(X_test)\n",
    "    \n",
    "        # 2. Calculate the loss\n",
    "        test_loss = loss_fn(test_pred, y_test)\n",
    "\n",
    "    if epoch % 200 == 0:\n",
    "        print(f\"Epoch: {epoch} | Train loss: {loss} | Test loss: {test_loss}\")"
   ]
  },
  {
   "cell_type": "code",
   "execution_count": 79,
   "id": "blond-reason",
   "metadata": {},
   "outputs": [
    {
     "data": {
      "text/plain": [
       "tensor([[1.6893],\n",
       "        [1.7146],\n",
       "        [1.7400],\n",
       "        [1.7654],\n",
       "        [1.7908],\n",
       "        [1.8162],\n",
       "        [1.8415],\n",
       "        [1.8669],\n",
       "        [1.8923],\n",
       "        [1.9177],\n",
       "        [1.9431],\n",
       "        [1.9684],\n",
       "        [1.9938],\n",
       "        [2.0192],\n",
       "        [2.0446]])"
      ]
     },
     "execution_count": 79,
     "metadata": {},
     "output_type": "execute_result"
    }
   ],
   "source": [
    "### Make Predictions\n",
    "\n",
    "# Turn model into evaluation mode\n",
    "model_1.eval()\n",
    "\n",
    "# Make predictions on the test data\n",
    "with torch.no_grad():\n",
    "    y_pred = model_1(X_test)\n",
    "y_pred"
   ]
  },
  {
   "cell_type": "code",
   "execution_count": 80,
   "id": "cardiac-oregon",
   "metadata": {},
   "outputs": [
    {
     "data": {
      "image/png": "[encoded data removed]",
      "text/plain": [
       "<Figure size 864x576 with 1 Axes>"
      ]
     },
     "metadata": {
      "needs_background": "light"
     },
     "output_type": "display_data"
    }
   ],
   "source": [
    "plot_predictions(predictions=y_pred)"
   ]
  },
  {
   "cell_type": "markdown",
   "id": "ignored-square",
   "metadata": {},
   "source": [
    "# Save the Model"
   ]
  },
  {
   "cell_type": "code",
   "execution_count": 83,
   "id": "realistic-liverpool",
   "metadata": {},
   "outputs": [],
   "source": [
    "import os\n",
    "\n",
    "# create model directory\n",
    "\n",
    "model_path = 'models'\n",
    "os.mkdir(model_path)\n",
    "\n",
    "# Create model save path\n",
    "\n",
    "model_name = 'lesson_01_model.pth'\n",
    "model_path_save = os.path.join(model_path,model_name)\n",
    "\n",
    "# Save the model\n",
    "\n",
    "torch.save(obj=model_1.state_dict(),f=model_path_save)"
   ]
  },
  {
   "cell_type": "markdown",
   "id": "charitable-warehouse",
   "metadata": {},
   "source": [
    "## Reload Model for predictions"
   ]
  },
  {
   "cell_type": "code",
   "execution_count": 85,
   "id": "dynamic-alaska",
   "metadata": {},
   "outputs": [
    {
     "data": {
      "text/plain": [
       "(tensor([[3.0000],\n",
       "         [3.0400],\n",
       "         [3.0800],\n",
       "         [3.1200],\n",
       "         [3.1600],\n",
       "         [3.2000],\n",
       "         [3.2400],\n",
       "         [3.2800],\n",
       "         [3.3200],\n",
       "         [3.3600]]),\n",
       " tensor([[4.8000],\n",
       "         [4.8240],\n",
       "         [4.8480],\n",
       "         [4.8720],\n",
       "         [4.8960],\n",
       "         [4.9200],\n",
       "         [4.9440],\n",
       "         [4.9680],\n",
       "         [4.9920],\n",
       "         [5.0160]]))"
      ]
     },
     "execution_count": 85,
     "metadata": {},
     "output_type": "execute_result"
    }
   ],
   "source": [
    "# Create a dataset\n",
    "\n",
    "start = 3\n",
    "end = 4\n",
    "X = torch.arange(start,end,step).unsqueeze(dim=1)\n",
    "y = w*X + b\n",
    "\n",
    "X[:10], y[:10]"
   ]
  },
  {
   "cell_type": "code",
   "execution_count": 87,
   "id": "environmental-drawing",
   "metadata": {},
   "outputs": [
    {
     "data": {
      "text/plain": [
       "(LinearRegressionModel(\n",
       "   (linear_layer): Linear(in_features=1, out_features=1, bias=True)\n",
       " ),\n",
       " OrderedDict([('linear_layer.weight', tensor([[0.6345]])),\n",
       "              ('linear_layer.bias', tensor([0.1665]))]))"
      ]
     },
     "execution_count": 87,
     "metadata": {},
     "output_type": "execute_result"
    }
   ],
   "source": [
    "loaded_model = LinearRegressionModel()\n",
    "\n",
    "# load model stats\n",
    "loaded_model.load_state_dict(torch.load(model_path_save))\n",
    "\n",
    "loaded_model,loaded_model.state_dict()"
   ]
  },
  {
   "cell_type": "code",
   "execution_count": 90,
   "id": "found-right",
   "metadata": {},
   "outputs": [
    {
     "data": {
      "text/plain": [
       "tensor(2.7135)"
      ]
     },
     "execution_count": 90,
     "metadata": {},
     "output_type": "execute_result"
    }
   ],
   "source": [
    "# Predictions\n",
    "loaded_model.eval()\n",
    "\n",
    "with torch.no_grad():\n",
    "    preds = loaded_model(X)\n",
    "    \n",
    "\n",
    "    \n",
    "# Calulate loss\n",
    "\n",
    "# Create loss function\n",
    "loss_fn = torch.nn.L1Loss()\n",
    "loss_fn(preds,y)"
   ]
  },
  {
   "cell_type": "markdown",
   "id": "primary-guide",
   "metadata": {},
   "source": [
    "# THE END"
   ]
  },
  {
   "cell_type": "code",
   "execution_count": null,
   "id": "explicit-clearing",
   "metadata": {},
   "outputs": [],
   "source": []
  }
 ],
 "metadata": {
  "kernelspec": {
   "display_name": "Python 3",
   "language": "python",
   "name": "python3"
  },
  "language_info": {
   "codemirror_mode": {
    "name": "ipython",
    "version": 3
   },
   "file_extension": ".py",
   "mimetype": "text/x-python",
   "name": "python",
   "nbconvert_exporter": "python",
   "pygments_lexer": "ipython3",
   "version": "3.8.3"
  }
 },
 "nbformat": 4,
 "nbformat_minor": 5
}
